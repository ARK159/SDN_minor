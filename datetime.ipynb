{
 "cells": [
  {
   "cell_type": "code",
   "execution_count": 37,
   "metadata": {},
   "outputs": [],
   "source": [
    "import pandas as pd"
   ]
  },
  {
   "cell_type": "code",
   "execution_count": 38,
   "metadata": {},
   "outputs": [],
   "source": [
    "df=pd.read_csv('Dataset1.csv')\n"
   ]
  },
  {
   "cell_type": "code",
   "execution_count": 39,
   "metadata": {},
   "outputs": [
    {
     "data": {
      "text/html": [
       "<div>\n",
       "<style scoped>\n",
       "    .dataframe tbody tr th:only-of-type {\n",
       "        vertical-align: middle;\n",
       "    }\n",
       "\n",
       "    .dataframe tbody tr th {\n",
       "        vertical-align: top;\n",
       "    }\n",
       "\n",
       "    .dataframe thead th {\n",
       "        text-align: right;\n",
       "    }\n",
       "</style>\n",
       "<table border=\"1\" class=\"dataframe\">\n",
       "  <thead>\n",
       "    <tr style=\"text-align: right;\">\n",
       "      <th></th>\n",
       "      <th>timestamp</th>\n",
       "      <th>datapath_id</th>\n",
       "      <th>flow_id</th>\n",
       "      <th>ip_src</th>\n",
       "      <th>tp_src</th>\n",
       "      <th>ip_dst</th>\n",
       "      <th>tp_dst</th>\n",
       "      <th>ip_proto</th>\n",
       "      <th>icmp_code</th>\n",
       "      <th>icmp_type</th>\n",
       "      <th>...</th>\n",
       "      <th>idle_timeout</th>\n",
       "      <th>hard_timeout</th>\n",
       "      <th>flags</th>\n",
       "      <th>packet_count</th>\n",
       "      <th>byte_count</th>\n",
       "      <th>packet_count_per_second</th>\n",
       "      <th>packet_count_per_nsecond</th>\n",
       "      <th>byte_count_per_second</th>\n",
       "      <th>byte_count_per_nsecond</th>\n",
       "      <th>label</th>\n",
       "    </tr>\n",
       "  </thead>\n",
       "  <tbody>\n",
       "    <tr>\n",
       "      <th>0</th>\n",
       "      <td>1.705819e+09</td>\n",
       "      <td>3</td>\n",
       "      <td>1000294575310001505117</td>\n",
       "      <td>100029</td>\n",
       "      <td>45753</td>\n",
       "      <td>10001</td>\n",
       "      <td>5051</td>\n",
       "      <td>17</td>\n",
       "      <td>-1</td>\n",
       "      <td>-1</td>\n",
       "      <td>...</td>\n",
       "      <td>14</td>\n",
       "      <td>94</td>\n",
       "      <td>0</td>\n",
       "      <td>2512</td>\n",
       "      <td>3798144</td>\n",
       "      <td>418.666667</td>\n",
       "      <td>0.000004</td>\n",
       "      <td>633024.0</td>\n",
       "      <td>0.006097</td>\n",
       "      <td>0</td>\n",
       "    </tr>\n",
       "    <tr>\n",
       "      <th>1</th>\n",
       "      <td>1.705819e+09</td>\n",
       "      <td>9</td>\n",
       "      <td>1000294575310001505117</td>\n",
       "      <td>100029</td>\n",
       "      <td>45753</td>\n",
       "      <td>10001</td>\n",
       "      <td>5051</td>\n",
       "      <td>17</td>\n",
       "      <td>-1</td>\n",
       "      <td>-1</td>\n",
       "      <td>...</td>\n",
       "      <td>13</td>\n",
       "      <td>93</td>\n",
       "      <td>0</td>\n",
       "      <td>41842</td>\n",
       "      <td>63265104</td>\n",
       "      <td>5977.428571</td>\n",
       "      <td>0.000078</td>\n",
       "      <td>9037872.0</td>\n",
       "      <td>0.118253</td>\n",
       "      <td>0</td>\n",
       "    </tr>\n",
       "    <tr>\n",
       "      <th>2</th>\n",
       "      <td>1.705819e+09</td>\n",
       "      <td>4</td>\n",
       "      <td>1000294575310001505117</td>\n",
       "      <td>100029</td>\n",
       "      <td>45753</td>\n",
       "      <td>10001</td>\n",
       "      <td>5051</td>\n",
       "      <td>17</td>\n",
       "      <td>-1</td>\n",
       "      <td>-1</td>\n",
       "      <td>...</td>\n",
       "      <td>14</td>\n",
       "      <td>94</td>\n",
       "      <td>0</td>\n",
       "      <td>2501</td>\n",
       "      <td>3781512</td>\n",
       "      <td>416.833333</td>\n",
       "      <td>0.000006</td>\n",
       "      <td>630252.0</td>\n",
       "      <td>0.009721</td>\n",
       "      <td>0</td>\n",
       "    </tr>\n",
       "    <tr>\n",
       "      <th>3</th>\n",
       "      <td>1.705819e+09</td>\n",
       "      <td>1</td>\n",
       "      <td>1000294575310001505117</td>\n",
       "      <td>100029</td>\n",
       "      <td>45753</td>\n",
       "      <td>10001</td>\n",
       "      <td>5051</td>\n",
       "      <td>17</td>\n",
       "      <td>-1</td>\n",
       "      <td>-1</td>\n",
       "      <td>...</td>\n",
       "      <td>14</td>\n",
       "      <td>94</td>\n",
       "      <td>0</td>\n",
       "      <td>2480</td>\n",
       "      <td>3749760</td>\n",
       "      <td>413.333333</td>\n",
       "      <td>0.000030</td>\n",
       "      <td>624960.0</td>\n",
       "      <td>0.045729</td>\n",
       "      <td>0</td>\n",
       "    </tr>\n",
       "    <tr>\n",
       "      <th>4</th>\n",
       "      <td>1.705819e+09</td>\n",
       "      <td>11</td>\n",
       "      <td>1000294575310001505117</td>\n",
       "      <td>100029</td>\n",
       "      <td>45753</td>\n",
       "      <td>10001</td>\n",
       "      <td>5051</td>\n",
       "      <td>17</td>\n",
       "      <td>-1</td>\n",
       "      <td>-1</td>\n",
       "      <td>...</td>\n",
       "      <td>14</td>\n",
       "      <td>94</td>\n",
       "      <td>0</td>\n",
       "      <td>2518</td>\n",
       "      <td>3807216</td>\n",
       "      <td>419.666667</td>\n",
       "      <td>0.000003</td>\n",
       "      <td>634536.0</td>\n",
       "      <td>0.004254</td>\n",
       "      <td>0</td>\n",
       "    </tr>\n",
       "  </tbody>\n",
       "</table>\n",
       "<p>5 rows × 22 columns</p>\n",
       "</div>"
      ],
      "text/plain": [
       "      timestamp  datapath_id                 flow_id  ip_src  tp_src  ip_dst  \\\n",
       "0  1.705819e+09            3  1000294575310001505117  100029   45753   10001   \n",
       "1  1.705819e+09            9  1000294575310001505117  100029   45753   10001   \n",
       "2  1.705819e+09            4  1000294575310001505117  100029   45753   10001   \n",
       "3  1.705819e+09            1  1000294575310001505117  100029   45753   10001   \n",
       "4  1.705819e+09           11  1000294575310001505117  100029   45753   10001   \n",
       "\n",
       "   tp_dst  ip_proto  icmp_code  icmp_type  ...  idle_timeout  hard_timeout  \\\n",
       "0    5051        17         -1         -1  ...            14            94   \n",
       "1    5051        17         -1         -1  ...            13            93   \n",
       "2    5051        17         -1         -1  ...            14            94   \n",
       "3    5051        17         -1         -1  ...            14            94   \n",
       "4    5051        17         -1         -1  ...            14            94   \n",
       "\n",
       "   flags  packet_count  byte_count  packet_count_per_second  \\\n",
       "0      0          2512     3798144               418.666667   \n",
       "1      0         41842    63265104              5977.428571   \n",
       "2      0          2501     3781512               416.833333   \n",
       "3      0          2480     3749760               413.333333   \n",
       "4      0          2518     3807216               419.666667   \n",
       "\n",
       "   packet_count_per_nsecond  byte_count_per_second  byte_count_per_nsecond  \\\n",
       "0                  0.000004               633024.0                0.006097   \n",
       "1                  0.000078              9037872.0                0.118253   \n",
       "2                  0.000006               630252.0                0.009721   \n",
       "3                  0.000030               624960.0                0.045729   \n",
       "4                  0.000003               634536.0                0.004254   \n",
       "\n",
       "   label  \n",
       "0      0  \n",
       "1      0  \n",
       "2      0  \n",
       "3      0  \n",
       "4      0  \n",
       "\n",
       "[5 rows x 22 columns]"
      ]
     },
     "execution_count": 39,
     "metadata": {},
     "output_type": "execute_result"
    }
   ],
   "source": [
    "df.head()"
   ]
  },
  {
   "cell_type": "code",
   "execution_count": 40,
   "metadata": {},
   "outputs": [],
   "source": [
    "time=df['timestamp'][50358]-df['timestamp'][0]"
   ]
  },
  {
   "cell_type": "code",
   "execution_count": 41,
   "metadata": {},
   "outputs": [
    {
     "name": "stdout",
     "output_type": "stream",
     "text": [
      "55.106206782658894\n"
     ]
    }
   ],
   "source": [
    "print(time/60)\n"
   ]
  },
  {
   "cell_type": "code",
   "execution_count": 44,
   "metadata": {},
   "outputs": [],
   "source": [
    "time=1705823515.470063-df['timestamp'][50365]"
   ]
  },
  {
   "cell_type": "code",
   "execution_count": 45,
   "metadata": {},
   "outputs": [
    {
     "name": "stdout",
     "output_type": "stream",
     "text": [
      "8.303722814718883\n"
     ]
    }
   ],
   "source": [
    "print(time/60)"
   ]
  },
  {
   "cell_type": "code",
   "execution_count": null,
   "metadata": {},
   "outputs": [],
   "source": []
  }
 ],
 "metadata": {
  "kernelspec": {
   "display_name": "Python 3",
   "language": "python",
   "name": "python3"
  },
  "language_info": {
   "codemirror_mode": {
    "name": "ipython",
    "version": 3
   },
   "file_extension": ".py",
   "mimetype": "text/x-python",
   "name": "python",
   "nbconvert_exporter": "python",
   "pygments_lexer": "ipython3",
   "version": "3.10.12"
  }
 },
 "nbformat": 4,
 "nbformat_minor": 2
}
