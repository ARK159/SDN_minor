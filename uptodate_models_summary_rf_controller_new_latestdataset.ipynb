{
 "cells": [
  {
   "cell_type": "code",
   "execution_count": 1,
   "id": "initial_id",
   "metadata": {
    "ExecuteTime": {
     "end_time": "2024-01-29T04:57:20.462417098Z",
     "start_time": "2024-01-29T04:57:20.371852377Z"
    },
    "collapsed": true
   },
   "outputs": [
    {
     "name": "stderr",
     "output_type": "stream",
     "text": [
      "/usr/lib/python3/dist-packages/scipy/__init__.py:146: UserWarning: A NumPy version >=1.17.3 and <1.25.0 is required for this version of SciPy (detected version 1.26.0\n",
      "  warnings.warn(f\"A NumPy version >={np_minversion} and <{np_maxversion}\"\n"
     ]
    }
   ],
   "source": [
    "import pandas as pd # For DataFrames, Series, and reading csv data in.\n",
    "import seaborn as sns # Graphing, built ontop of MatPlot for ease-of-use and nicer diagrams.\n",
    "import matplotlib.pyplot as plt # MatPlotLib for graphing data visually. Seaborn more likely to be used.\n",
    "import numpy as np # For manipulating arrays and changing data into correct formats for certain libraries\n",
    "from sklearn.model_selection import train_test_split\n",
    "%matplotlib inline\n",
    "from sklearn.preprocessing import StandardScaler  # For Normalization"
   ]
  },
  {
   "cell_type": "code",
   "execution_count": 2,
   "id": "242119f14a2d382",
   "metadata": {
    "ExecuteTime": {
     "end_time": "2024-01-29T04:57:21.599411922Z",
     "start_time": "2024-01-29T04:57:21.350932477Z"
    },
    "collapsed": false
   },
   "outputs": [],
   "source": [
    "from sklearn.model_selection import train_test_split\n",
    "from sklearn.ensemble import RandomForestClassifier\n",
    "from sklearn.metrics import confusion_matrix,ConfusionMatrixDisplay\n",
    "from sklearn.metrics import accuracy_score\n",
    "from imblearn.under_sampling import RandomUnderSampler\n",
    "import seaborn as sns\n",
    "import matplotlib.pyplot as plt"
   ]
  },
  {
   "cell_type": "code",
   "execution_count": 3,
   "id": "5f8a47119107d677",
   "metadata": {
    "ExecuteTime": {
     "end_time": "2024-01-29T08:18:54.580561133Z",
     "start_time": "2024-01-29T08:18:54.508085314Z"
    },
    "collapsed": false
   },
   "outputs": [],
   "source": [
    "from sklearn.metrics import roc_auc_score,roc_curve,auc"
   ]
  },
  {
   "cell_type": "code",
   "execution_count": 5,
   "id": "c724c3b2850a33e5",
   "metadata": {
    "ExecuteTime": {
     "end_time": "2024-01-29T04:57:23.806117703Z",
     "start_time": "2024-01-29T04:57:22.434783579Z"
    },
    "collapsed": false
   },
   "outputs": [],
   "source": [
    "dfo= pd.read_csv('Dataset1.csv')\n",
    "df=dfo.copy()"
   ]
  },
  {
   "cell_type": "code",
   "execution_count": 6,
   "id": "6aae7053747568d6",
   "metadata": {
    "ExecuteTime": {
     "end_time": "2024-01-29T04:57:25.192862012Z",
     "start_time": "2024-01-29T04:57:25.097226872Z"
    },
    "collapsed": false
   },
   "outputs": [
    {
     "data": {
      "text/plain": [
       "(385972, 22)"
      ]
     },
     "execution_count": 6,
     "metadata": {},
     "output_type": "execute_result"
    }
   ],
   "source": [
    "df.shape"
   ]
  },
  {
   "cell_type": "code",
   "execution_count": 7,
   "id": "2beacc068a7cce35",
   "metadata": {
    "ExecuteTime": {
     "end_time": "2024-01-29T04:57:26.374750779Z",
     "start_time": "2024-01-29T04:57:26.029061796Z"
    },
    "collapsed": false
   },
   "outputs": [],
   "source": [
    "#df = df.sample(frac=1).reset_index(drop=True)\n",
    "df = df.reset_index(drop=True)\n",
    "df.sort_values(by='timestamp', inplace=True)\n",
    "\n",
    "        # flow_dataset.iloc[:, 2] = flow_dataset.iloc[:, 2].str.replace('.', '')\n",
    "        # flow_dataset.iloc[:, 3] = flow_dataset.iloc[:, 3].str.replace('.', '')\n",
    "        # flow_dataset.iloc[:, 5] = flow_dataset.iloc[:, 5].str.replace('.', '')\n"
   ]
  },
  {
   "cell_type": "code",
   "execution_count": 8,
   "id": "438e9103cb75041a",
   "metadata": {
    "ExecuteTime": {
     "end_time": "2024-01-29T04:57:32.484017515Z",
     "start_time": "2024-01-29T04:57:31.710400684Z"
    },
    "collapsed": false
   },
   "outputs": [
    {
     "data": {
      "text/html": [
       "<div>\n",
       "<style scoped>\n",
       "    .dataframe tbody tr th:only-of-type {\n",
       "        vertical-align: middle;\n",
       "    }\n",
       "\n",
       "    .dataframe tbody tr th {\n",
       "        vertical-align: top;\n",
       "    }\n",
       "\n",
       "    .dataframe thead th {\n",
       "        text-align: right;\n",
       "    }\n",
       "</style>\n",
       "<table border=\"1\" class=\"dataframe\">\n",
       "  <thead>\n",
       "    <tr style=\"text-align: right;\">\n",
       "      <th></th>\n",
       "      <th>timestamp</th>\n",
       "      <th>datapath_id</th>\n",
       "      <th>flow_id</th>\n",
       "      <th>ip_src</th>\n",
       "      <th>tp_src</th>\n",
       "      <th>ip_dst</th>\n",
       "      <th>tp_dst</th>\n",
       "      <th>ip_proto</th>\n",
       "      <th>icmp_code</th>\n",
       "      <th>icmp_type</th>\n",
       "      <th>...</th>\n",
       "      <th>idle_timeout</th>\n",
       "      <th>hard_timeout</th>\n",
       "      <th>flags</th>\n",
       "      <th>packet_count</th>\n",
       "      <th>byte_count</th>\n",
       "      <th>packet_count_per_second</th>\n",
       "      <th>packet_count_per_nsecond</th>\n",
       "      <th>byte_count_per_second</th>\n",
       "      <th>byte_count_per_nsecond</th>\n",
       "      <th>label</th>\n",
       "    </tr>\n",
       "  </thead>\n",
       "  <tbody>\n",
       "    <tr>\n",
       "      <th>timestamp</th>\n",
       "      <td>1.000000</td>\n",
       "      <td>0.030168</td>\n",
       "      <td>0.021241</td>\n",
       "      <td>0.033743</td>\n",
       "      <td>0.041765</td>\n",
       "      <td>-0.019228</td>\n",
       "      <td>-0.007497</td>\n",
       "      <td>0.075588</td>\n",
       "      <td>-0.059670</td>\n",
       "      <td>-0.078788</td>\n",
       "      <td>...</td>\n",
       "      <td>-0.012456</td>\n",
       "      <td>0.004108</td>\n",
       "      <td>NaN</td>\n",
       "      <td>-0.745432</td>\n",
       "      <td>-0.337135</td>\n",
       "      <td>-0.392951</td>\n",
       "      <td>-0.185387</td>\n",
       "      <td>-0.208520</td>\n",
       "      <td>-0.039711</td>\n",
       "      <td>0.011783</td>\n",
       "    </tr>\n",
       "    <tr>\n",
       "      <th>datapath_id</th>\n",
       "      <td>0.030168</td>\n",
       "      <td>1.000000</td>\n",
       "      <td>-0.077958</td>\n",
       "      <td>-0.037478</td>\n",
       "      <td>-0.052558</td>\n",
       "      <td>0.141112</td>\n",
       "      <td>0.089057</td>\n",
       "      <td>-0.183538</td>\n",
       "      <td>0.176222</td>\n",
       "      <td>0.193832</td>\n",
       "      <td>...</td>\n",
       "      <td>-0.032076</td>\n",
       "      <td>-0.047395</td>\n",
       "      <td>NaN</td>\n",
       "      <td>-0.020559</td>\n",
       "      <td>0.029473</td>\n",
       "      <td>-0.010991</td>\n",
       "      <td>-0.004813</td>\n",
       "      <td>0.012589</td>\n",
       "      <td>0.002914</td>\n",
       "      <td>-0.142566</td>\n",
       "    </tr>\n",
       "    <tr>\n",
       "      <th>flow_id</th>\n",
       "      <td>0.021241</td>\n",
       "      <td>-0.077958</td>\n",
       "      <td>1.000000</td>\n",
       "      <td>0.583619</td>\n",
       "      <td>0.123399</td>\n",
       "      <td>-0.154868</td>\n",
       "      <td>-0.072656</td>\n",
       "      <td>0.203814</td>\n",
       "      <td>-0.199393</td>\n",
       "      <td>-0.224149</td>\n",
       "      <td>...</td>\n",
       "      <td>0.026423</td>\n",
       "      <td>0.043034</td>\n",
       "      <td>NaN</td>\n",
       "      <td>-0.016123</td>\n",
       "      <td>-0.039415</td>\n",
       "      <td>-0.008667</td>\n",
       "      <td>-0.004386</td>\n",
       "      <td>-0.021536</td>\n",
       "      <td>-0.006880</td>\n",
       "      <td>0.115028</td>\n",
       "    </tr>\n",
       "    <tr>\n",
       "      <th>ip_src</th>\n",
       "      <td>0.033743</td>\n",
       "      <td>-0.037478</td>\n",
       "      <td>0.583619</td>\n",
       "      <td>1.000000</td>\n",
       "      <td>-0.032455</td>\n",
       "      <td>-0.052366</td>\n",
       "      <td>-0.126351</td>\n",
       "      <td>0.093695</td>\n",
       "      <td>-0.109423</td>\n",
       "      <td>-0.054608</td>\n",
       "      <td>...</td>\n",
       "      <td>0.043341</td>\n",
       "      <td>0.072664</td>\n",
       "      <td>NaN</td>\n",
       "      <td>-0.027952</td>\n",
       "      <td>-0.068408</td>\n",
       "      <td>-0.015028</td>\n",
       "      <td>-0.007607</td>\n",
       "      <td>-0.037393</td>\n",
       "      <td>-0.011938</td>\n",
       "      <td>0.199421</td>\n",
       "    </tr>\n",
       "    <tr>\n",
       "      <th>tp_src</th>\n",
       "      <td>0.041765</td>\n",
       "      <td>-0.052558</td>\n",
       "      <td>0.123399</td>\n",
       "      <td>-0.032455</td>\n",
       "      <td>1.000000</td>\n",
       "      <td>-0.614365</td>\n",
       "      <td>-0.108859</td>\n",
       "      <td>0.485376</td>\n",
       "      <td>-0.143852</td>\n",
       "      <td>-0.443360</td>\n",
       "      <td>...</td>\n",
       "      <td>-0.004373</td>\n",
       "      <td>-0.040218</td>\n",
       "      <td>NaN</td>\n",
       "      <td>-0.006304</td>\n",
       "      <td>0.210636</td>\n",
       "      <td>-0.001882</td>\n",
       "      <td>0.000777</td>\n",
       "      <td>0.112819</td>\n",
       "      <td>0.038898</td>\n",
       "      <td>-0.281733</td>\n",
       "    </tr>\n",
       "    <tr>\n",
       "      <th>ip_dst</th>\n",
       "      <td>-0.019228</td>\n",
       "      <td>0.141112</td>\n",
       "      <td>-0.154868</td>\n",
       "      <td>-0.052366</td>\n",
       "      <td>-0.614365</td>\n",
       "      <td>1.000000</td>\n",
       "      <td>0.178738</td>\n",
       "      <td>-0.895881</td>\n",
       "      <td>0.478408</td>\n",
       "      <td>0.743173</td>\n",
       "      <td>...</td>\n",
       "      <td>-0.058717</td>\n",
       "      <td>-0.079898</td>\n",
       "      <td>NaN</td>\n",
       "      <td>-0.003632</td>\n",
       "      <td>-0.093183</td>\n",
       "      <td>-0.003086</td>\n",
       "      <td>-0.002434</td>\n",
       "      <td>-0.049927</td>\n",
       "      <td>-0.017440</td>\n",
       "      <td>-0.063098</td>\n",
       "    </tr>\n",
       "    <tr>\n",
       "      <th>tp_dst</th>\n",
       "      <td>-0.007497</td>\n",
       "      <td>0.089057</td>\n",
       "      <td>-0.072656</td>\n",
       "      <td>-0.126351</td>\n",
       "      <td>-0.108859</td>\n",
       "      <td>0.178738</td>\n",
       "      <td>1.000000</td>\n",
       "      <td>-0.138462</td>\n",
       "      <td>0.064055</td>\n",
       "      <td>-0.098054</td>\n",
       "      <td>...</td>\n",
       "      <td>-0.109156</td>\n",
       "      <td>-0.169237</td>\n",
       "      <td>NaN</td>\n",
       "      <td>-0.004768</td>\n",
       "      <td>0.025026</td>\n",
       "      <td>-0.002423</td>\n",
       "      <td>-0.000751</td>\n",
       "      <td>0.013044</td>\n",
       "      <td>0.004866</td>\n",
       "      <td>-0.633693</td>\n",
       "    </tr>\n",
       "    <tr>\n",
       "      <th>ip_proto</th>\n",
       "      <td>0.075588</td>\n",
       "      <td>-0.183538</td>\n",
       "      <td>0.203814</td>\n",
       "      <td>0.093695</td>\n",
       "      <td>0.485376</td>\n",
       "      <td>-0.895881</td>\n",
       "      <td>-0.138462</td>\n",
       "      <td>1.000000</td>\n",
       "      <td>-0.703018</td>\n",
       "      <td>-0.862548</td>\n",
       "      <td>...</td>\n",
       "      <td>0.103679</td>\n",
       "      <td>0.166039</td>\n",
       "      <td>NaN</td>\n",
       "      <td>-0.034471</td>\n",
       "      <td>0.003909</td>\n",
       "      <td>-0.017460</td>\n",
       "      <td>-0.007598</td>\n",
       "      <td>0.012602</td>\n",
       "      <td>-0.000418</td>\n",
       "      <td>0.244729</td>\n",
       "    </tr>\n",
       "    <tr>\n",
       "      <th>icmp_code</th>\n",
       "      <td>-0.059670</td>\n",
       "      <td>0.176222</td>\n",
       "      <td>-0.199393</td>\n",
       "      <td>-0.109423</td>\n",
       "      <td>-0.143852</td>\n",
       "      <td>0.478408</td>\n",
       "      <td>0.064055</td>\n",
       "      <td>-0.703018</td>\n",
       "      <td>1.000000</td>\n",
       "      <td>0.697671</td>\n",
       "      <td>...</td>\n",
       "      <td>-0.074881</td>\n",
       "      <td>-0.123738</td>\n",
       "      <td>NaN</td>\n",
       "      <td>0.051082</td>\n",
       "      <td>0.188114</td>\n",
       "      <td>0.026373</td>\n",
       "      <td>0.014825</td>\n",
       "      <td>0.089349</td>\n",
       "      <td>0.033362</td>\n",
       "      <td>-0.375859</td>\n",
       "    </tr>\n",
       "    <tr>\n",
       "      <th>icmp_type</th>\n",
       "      <td>-0.078788</td>\n",
       "      <td>0.193832</td>\n",
       "      <td>-0.224149</td>\n",
       "      <td>-0.054608</td>\n",
       "      <td>-0.443360</td>\n",
       "      <td>0.743173</td>\n",
       "      <td>-0.098054</td>\n",
       "      <td>-0.862548</td>\n",
       "      <td>0.697671</td>\n",
       "      <td>1.000000</td>\n",
       "      <td>...</td>\n",
       "      <td>-0.021589</td>\n",
       "      <td>-0.049906</td>\n",
       "      <td>NaN</td>\n",
       "      <td>0.058342</td>\n",
       "      <td>0.059549</td>\n",
       "      <td>0.030808</td>\n",
       "      <td>0.014798</td>\n",
       "      <td>0.032996</td>\n",
       "      <td>0.006242</td>\n",
       "      <td>-0.029468</td>\n",
       "    </tr>\n",
       "    <tr>\n",
       "      <th>flow_duration_sec</th>\n",
       "      <td>-0.004108</td>\n",
       "      <td>0.047395</td>\n",
       "      <td>-0.043034</td>\n",
       "      <td>-0.072664</td>\n",
       "      <td>0.040218</td>\n",
       "      <td>0.079898</td>\n",
       "      <td>0.169237</td>\n",
       "      <td>-0.166039</td>\n",
       "      <td>0.123738</td>\n",
       "      <td>0.049906</td>\n",
       "      <td>...</td>\n",
       "      <td>-0.878262</td>\n",
       "      <td>-1.000000</td>\n",
       "      <td>NaN</td>\n",
       "      <td>-0.001349</td>\n",
       "      <td>0.065125</td>\n",
       "      <td>-0.012743</td>\n",
       "      <td>0.007395</td>\n",
       "      <td>-0.012603</td>\n",
       "      <td>0.019089</td>\n",
       "      <td>-0.362140</td>\n",
       "    </tr>\n",
       "    <tr>\n",
       "      <th>flow_duration_nsec</th>\n",
       "      <td>0.031708</td>\n",
       "      <td>-0.009626</td>\n",
       "      <td>0.006037</td>\n",
       "      <td>0.005913</td>\n",
       "      <td>-0.002224</td>\n",
       "      <td>-0.001733</td>\n",
       "      <td>-0.002310</td>\n",
       "      <td>0.002523</td>\n",
       "      <td>-0.003623</td>\n",
       "      <td>-0.011509</td>\n",
       "      <td>...</td>\n",
       "      <td>0.003006</td>\n",
       "      <td>0.002115</td>\n",
       "      <td>NaN</td>\n",
       "      <td>-0.019434</td>\n",
       "      <td>-0.026198</td>\n",
       "      <td>0.000728</td>\n",
       "      <td>-0.018146</td>\n",
       "      <td>0.000213</td>\n",
       "      <td>-0.030013</td>\n",
       "      <td>0.007865</td>\n",
       "    </tr>\n",
       "    <tr>\n",
       "      <th>idle_timeout</th>\n",
       "      <td>-0.012456</td>\n",
       "      <td>-0.032076</td>\n",
       "      <td>0.026423</td>\n",
       "      <td>0.043341</td>\n",
       "      <td>-0.004373</td>\n",
       "      <td>-0.058717</td>\n",
       "      <td>-0.109156</td>\n",
       "      <td>0.103679</td>\n",
       "      <td>-0.074881</td>\n",
       "      <td>-0.021589</td>\n",
       "      <td>...</td>\n",
       "      <td>1.000000</td>\n",
       "      <td>0.878262</td>\n",
       "      <td>NaN</td>\n",
       "      <td>0.005044</td>\n",
       "      <td>-0.060962</td>\n",
       "      <td>0.015314</td>\n",
       "      <td>-0.008361</td>\n",
       "      <td>0.016441</td>\n",
       "      <td>-0.019341</td>\n",
       "      <td>0.216550</td>\n",
       "    </tr>\n",
       "    <tr>\n",
       "      <th>hard_timeout</th>\n",
       "      <td>0.004108</td>\n",
       "      <td>-0.047395</td>\n",
       "      <td>0.043034</td>\n",
       "      <td>0.072664</td>\n",
       "      <td>-0.040218</td>\n",
       "      <td>-0.079898</td>\n",
       "      <td>-0.169237</td>\n",
       "      <td>0.166039</td>\n",
       "      <td>-0.123738</td>\n",
       "      <td>-0.049906</td>\n",
       "      <td>...</td>\n",
       "      <td>0.878262</td>\n",
       "      <td>1.000000</td>\n",
       "      <td>NaN</td>\n",
       "      <td>0.001349</td>\n",
       "      <td>-0.065125</td>\n",
       "      <td>0.012743</td>\n",
       "      <td>-0.007395</td>\n",
       "      <td>0.012603</td>\n",
       "      <td>-0.019089</td>\n",
       "      <td>0.362140</td>\n",
       "    </tr>\n",
       "    <tr>\n",
       "      <th>flags</th>\n",
       "      <td>NaN</td>\n",
       "      <td>NaN</td>\n",
       "      <td>NaN</td>\n",
       "      <td>NaN</td>\n",
       "      <td>NaN</td>\n",
       "      <td>NaN</td>\n",
       "      <td>NaN</td>\n",
       "      <td>NaN</td>\n",
       "      <td>NaN</td>\n",
       "      <td>NaN</td>\n",
       "      <td>...</td>\n",
       "      <td>NaN</td>\n",
       "      <td>NaN</td>\n",
       "      <td>NaN</td>\n",
       "      <td>NaN</td>\n",
       "      <td>NaN</td>\n",
       "      <td>NaN</td>\n",
       "      <td>NaN</td>\n",
       "      <td>NaN</td>\n",
       "      <td>NaN</td>\n",
       "      <td>NaN</td>\n",
       "    </tr>\n",
       "    <tr>\n",
       "      <th>packet_count</th>\n",
       "      <td>-0.745432</td>\n",
       "      <td>-0.020559</td>\n",
       "      <td>-0.016123</td>\n",
       "      <td>-0.027952</td>\n",
       "      <td>-0.006304</td>\n",
       "      <td>-0.003632</td>\n",
       "      <td>-0.004768</td>\n",
       "      <td>-0.034471</td>\n",
       "      <td>0.051082</td>\n",
       "      <td>0.058342</td>\n",
       "      <td>...</td>\n",
       "      <td>0.005044</td>\n",
       "      <td>0.001349</td>\n",
       "      <td>NaN</td>\n",
       "      <td>1.000000</td>\n",
       "      <td>0.533725</td>\n",
       "      <td>0.521746</td>\n",
       "      <td>0.290339</td>\n",
       "      <td>0.333746</td>\n",
       "      <td>0.074830</td>\n",
       "      <td>-0.024006</td>\n",
       "    </tr>\n",
       "    <tr>\n",
       "      <th>byte_count</th>\n",
       "      <td>-0.337135</td>\n",
       "      <td>0.029473</td>\n",
       "      <td>-0.039415</td>\n",
       "      <td>-0.068408</td>\n",
       "      <td>0.210636</td>\n",
       "      <td>-0.093183</td>\n",
       "      <td>0.025026</td>\n",
       "      <td>0.003909</td>\n",
       "      <td>0.188114</td>\n",
       "      <td>0.059549</td>\n",
       "      <td>...</td>\n",
       "      <td>-0.060962</td>\n",
       "      <td>-0.065125</td>\n",
       "      <td>NaN</td>\n",
       "      <td>0.533725</td>\n",
       "      <td>1.000000</td>\n",
       "      <td>0.283578</td>\n",
       "      <td>0.159800</td>\n",
       "      <td>0.538734</td>\n",
       "      <td>0.177021</td>\n",
       "      <td>-0.291044</td>\n",
       "    </tr>\n",
       "    <tr>\n",
       "      <th>packet_count_per_second</th>\n",
       "      <td>-0.392951</td>\n",
       "      <td>-0.010991</td>\n",
       "      <td>-0.008667</td>\n",
       "      <td>-0.015028</td>\n",
       "      <td>-0.001882</td>\n",
       "      <td>-0.003086</td>\n",
       "      <td>-0.002423</td>\n",
       "      <td>-0.017460</td>\n",
       "      <td>0.026373</td>\n",
       "      <td>0.030808</td>\n",
       "      <td>...</td>\n",
       "      <td>0.015314</td>\n",
       "      <td>0.012743</td>\n",
       "      <td>NaN</td>\n",
       "      <td>0.521746</td>\n",
       "      <td>0.283578</td>\n",
       "      <td>1.000000</td>\n",
       "      <td>0.153164</td>\n",
       "      <td>0.641632</td>\n",
       "      <td>0.044252</td>\n",
       "      <td>-0.014127</td>\n",
       "    </tr>\n",
       "    <tr>\n",
       "      <th>packet_count_per_nsecond</th>\n",
       "      <td>-0.185387</td>\n",
       "      <td>-0.004813</td>\n",
       "      <td>-0.004386</td>\n",
       "      <td>-0.007607</td>\n",
       "      <td>0.000777</td>\n",
       "      <td>-0.002434</td>\n",
       "      <td>-0.000751</td>\n",
       "      <td>-0.007598</td>\n",
       "      <td>0.014825</td>\n",
       "      <td>0.014798</td>\n",
       "      <td>...</td>\n",
       "      <td>-0.008361</td>\n",
       "      <td>-0.007395</td>\n",
       "      <td>NaN</td>\n",
       "      <td>0.290339</td>\n",
       "      <td>0.159800</td>\n",
       "      <td>0.153164</td>\n",
       "      <td>1.000000</td>\n",
       "      <td>0.111137</td>\n",
       "      <td>0.398744</td>\n",
       "      <td>-0.009266</td>\n",
       "    </tr>\n",
       "    <tr>\n",
       "      <th>byte_count_per_second</th>\n",
       "      <td>-0.208520</td>\n",
       "      <td>0.012589</td>\n",
       "      <td>-0.021536</td>\n",
       "      <td>-0.037393</td>\n",
       "      <td>0.112819</td>\n",
       "      <td>-0.049927</td>\n",
       "      <td>0.013044</td>\n",
       "      <td>0.012602</td>\n",
       "      <td>0.089349</td>\n",
       "      <td>0.032996</td>\n",
       "      <td>...</td>\n",
       "      <td>0.016441</td>\n",
       "      <td>0.012603</td>\n",
       "      <td>NaN</td>\n",
       "      <td>0.333746</td>\n",
       "      <td>0.538734</td>\n",
       "      <td>0.641632</td>\n",
       "      <td>0.111137</td>\n",
       "      <td>1.000000</td>\n",
       "      <td>0.110649</td>\n",
       "      <td>-0.155314</td>\n",
       "    </tr>\n",
       "    <tr>\n",
       "      <th>byte_count_per_nsecond</th>\n",
       "      <td>-0.039711</td>\n",
       "      <td>0.002914</td>\n",
       "      <td>-0.006880</td>\n",
       "      <td>-0.011938</td>\n",
       "      <td>0.038898</td>\n",
       "      <td>-0.017440</td>\n",
       "      <td>0.004866</td>\n",
       "      <td>-0.000418</td>\n",
       "      <td>0.033362</td>\n",
       "      <td>0.006242</td>\n",
       "      <td>...</td>\n",
       "      <td>-0.019341</td>\n",
       "      <td>-0.019089</td>\n",
       "      <td>NaN</td>\n",
       "      <td>0.074830</td>\n",
       "      <td>0.177021</td>\n",
       "      <td>0.044252</td>\n",
       "      <td>0.398744</td>\n",
       "      <td>0.110649</td>\n",
       "      <td>1.000000</td>\n",
       "      <td>-0.053782</td>\n",
       "    </tr>\n",
       "    <tr>\n",
       "      <th>label</th>\n",
       "      <td>0.011783</td>\n",
       "      <td>-0.142566</td>\n",
       "      <td>0.115028</td>\n",
       "      <td>0.199421</td>\n",
       "      <td>-0.281733</td>\n",
       "      <td>-0.063098</td>\n",
       "      <td>-0.633693</td>\n",
       "      <td>0.244729</td>\n",
       "      <td>-0.375859</td>\n",
       "      <td>-0.029468</td>\n",
       "      <td>...</td>\n",
       "      <td>0.216550</td>\n",
       "      <td>0.362140</td>\n",
       "      <td>NaN</td>\n",
       "      <td>-0.024006</td>\n",
       "      <td>-0.291044</td>\n",
       "      <td>-0.014127</td>\n",
       "      <td>-0.009266</td>\n",
       "      <td>-0.155314</td>\n",
       "      <td>-0.053782</td>\n",
       "      <td>1.000000</td>\n",
       "    </tr>\n",
       "  </tbody>\n",
       "</table>\n",
       "<p>22 rows × 22 columns</p>\n",
       "</div>"
      ],
      "text/plain": [
       "                          timestamp  datapath_id   flow_id    ip_src  \\\n",
       "timestamp                  1.000000     0.030168  0.021241  0.033743   \n",
       "datapath_id                0.030168     1.000000 -0.077958 -0.037478   \n",
       "flow_id                    0.021241    -0.077958  1.000000  0.583619   \n",
       "ip_src                     0.033743    -0.037478  0.583619  1.000000   \n",
       "tp_src                     0.041765    -0.052558  0.123399 -0.032455   \n",
       "ip_dst                    -0.019228     0.141112 -0.154868 -0.052366   \n",
       "tp_dst                    -0.007497     0.089057 -0.072656 -0.126351   \n",
       "ip_proto                   0.075588    -0.183538  0.203814  0.093695   \n",
       "icmp_code                 -0.059670     0.176222 -0.199393 -0.109423   \n",
       "icmp_type                 -0.078788     0.193832 -0.224149 -0.054608   \n",
       "flow_duration_sec         -0.004108     0.047395 -0.043034 -0.072664   \n",
       "flow_duration_nsec         0.031708    -0.009626  0.006037  0.005913   \n",
       "idle_timeout              -0.012456    -0.032076  0.026423  0.043341   \n",
       "hard_timeout               0.004108    -0.047395  0.043034  0.072664   \n",
       "flags                           NaN          NaN       NaN       NaN   \n",
       "packet_count              -0.745432    -0.020559 -0.016123 -0.027952   \n",
       "byte_count                -0.337135     0.029473 -0.039415 -0.068408   \n",
       "packet_count_per_second   -0.392951    -0.010991 -0.008667 -0.015028   \n",
       "packet_count_per_nsecond  -0.185387    -0.004813 -0.004386 -0.007607   \n",
       "byte_count_per_second     -0.208520     0.012589 -0.021536 -0.037393   \n",
       "byte_count_per_nsecond    -0.039711     0.002914 -0.006880 -0.011938   \n",
       "label                      0.011783    -0.142566  0.115028  0.199421   \n",
       "\n",
       "                            tp_src    ip_dst    tp_dst  ip_proto  icmp_code  \\\n",
       "timestamp                 0.041765 -0.019228 -0.007497  0.075588  -0.059670   \n",
       "datapath_id              -0.052558  0.141112  0.089057 -0.183538   0.176222   \n",
       "flow_id                   0.123399 -0.154868 -0.072656  0.203814  -0.199393   \n",
       "ip_src                   -0.032455 -0.052366 -0.126351  0.093695  -0.109423   \n",
       "tp_src                    1.000000 -0.614365 -0.108859  0.485376  -0.143852   \n",
       "ip_dst                   -0.614365  1.000000  0.178738 -0.895881   0.478408   \n",
       "tp_dst                   -0.108859  0.178738  1.000000 -0.138462   0.064055   \n",
       "ip_proto                  0.485376 -0.895881 -0.138462  1.000000  -0.703018   \n",
       "icmp_code                -0.143852  0.478408  0.064055 -0.703018   1.000000   \n",
       "icmp_type                -0.443360  0.743173 -0.098054 -0.862548   0.697671   \n",
       "flow_duration_sec         0.040218  0.079898  0.169237 -0.166039   0.123738   \n",
       "flow_duration_nsec       -0.002224 -0.001733 -0.002310  0.002523  -0.003623   \n",
       "idle_timeout             -0.004373 -0.058717 -0.109156  0.103679  -0.074881   \n",
       "hard_timeout             -0.040218 -0.079898 -0.169237  0.166039  -0.123738   \n",
       "flags                          NaN       NaN       NaN       NaN        NaN   \n",
       "packet_count             -0.006304 -0.003632 -0.004768 -0.034471   0.051082   \n",
       "byte_count                0.210636 -0.093183  0.025026  0.003909   0.188114   \n",
       "packet_count_per_second  -0.001882 -0.003086 -0.002423 -0.017460   0.026373   \n",
       "packet_count_per_nsecond  0.000777 -0.002434 -0.000751 -0.007598   0.014825   \n",
       "byte_count_per_second     0.112819 -0.049927  0.013044  0.012602   0.089349   \n",
       "byte_count_per_nsecond    0.038898 -0.017440  0.004866 -0.000418   0.033362   \n",
       "label                    -0.281733 -0.063098 -0.633693  0.244729  -0.375859   \n",
       "\n",
       "                          icmp_type  ...  idle_timeout  hard_timeout  flags  \\\n",
       "timestamp                 -0.078788  ...     -0.012456      0.004108    NaN   \n",
       "datapath_id                0.193832  ...     -0.032076     -0.047395    NaN   \n",
       "flow_id                   -0.224149  ...      0.026423      0.043034    NaN   \n",
       "ip_src                    -0.054608  ...      0.043341      0.072664    NaN   \n",
       "tp_src                    -0.443360  ...     -0.004373     -0.040218    NaN   \n",
       "ip_dst                     0.743173  ...     -0.058717     -0.079898    NaN   \n",
       "tp_dst                    -0.098054  ...     -0.109156     -0.169237    NaN   \n",
       "ip_proto                  -0.862548  ...      0.103679      0.166039    NaN   \n",
       "icmp_code                  0.697671  ...     -0.074881     -0.123738    NaN   \n",
       "icmp_type                  1.000000  ...     -0.021589     -0.049906    NaN   \n",
       "flow_duration_sec          0.049906  ...     -0.878262     -1.000000    NaN   \n",
       "flow_duration_nsec        -0.011509  ...      0.003006      0.002115    NaN   \n",
       "idle_timeout              -0.021589  ...      1.000000      0.878262    NaN   \n",
       "hard_timeout              -0.049906  ...      0.878262      1.000000    NaN   \n",
       "flags                           NaN  ...           NaN           NaN    NaN   \n",
       "packet_count               0.058342  ...      0.005044      0.001349    NaN   \n",
       "byte_count                 0.059549  ...     -0.060962     -0.065125    NaN   \n",
       "packet_count_per_second    0.030808  ...      0.015314      0.012743    NaN   \n",
       "packet_count_per_nsecond   0.014798  ...     -0.008361     -0.007395    NaN   \n",
       "byte_count_per_second      0.032996  ...      0.016441      0.012603    NaN   \n",
       "byte_count_per_nsecond     0.006242  ...     -0.019341     -0.019089    NaN   \n",
       "label                     -0.029468  ...      0.216550      0.362140    NaN   \n",
       "\n",
       "                          packet_count  byte_count  packet_count_per_second  \\\n",
       "timestamp                    -0.745432   -0.337135                -0.392951   \n",
       "datapath_id                  -0.020559    0.029473                -0.010991   \n",
       "flow_id                      -0.016123   -0.039415                -0.008667   \n",
       "ip_src                       -0.027952   -0.068408                -0.015028   \n",
       "tp_src                       -0.006304    0.210636                -0.001882   \n",
       "ip_dst                       -0.003632   -0.093183                -0.003086   \n",
       "tp_dst                       -0.004768    0.025026                -0.002423   \n",
       "ip_proto                     -0.034471    0.003909                -0.017460   \n",
       "icmp_code                     0.051082    0.188114                 0.026373   \n",
       "icmp_type                     0.058342    0.059549                 0.030808   \n",
       "flow_duration_sec            -0.001349    0.065125                -0.012743   \n",
       "flow_duration_nsec           -0.019434   -0.026198                 0.000728   \n",
       "idle_timeout                  0.005044   -0.060962                 0.015314   \n",
       "hard_timeout                  0.001349   -0.065125                 0.012743   \n",
       "flags                              NaN         NaN                      NaN   \n",
       "packet_count                  1.000000    0.533725                 0.521746   \n",
       "byte_count                    0.533725    1.000000                 0.283578   \n",
       "packet_count_per_second       0.521746    0.283578                 1.000000   \n",
       "packet_count_per_nsecond      0.290339    0.159800                 0.153164   \n",
       "byte_count_per_second         0.333746    0.538734                 0.641632   \n",
       "byte_count_per_nsecond        0.074830    0.177021                 0.044252   \n",
       "label                        -0.024006   -0.291044                -0.014127   \n",
       "\n",
       "                          packet_count_per_nsecond  byte_count_per_second  \\\n",
       "timestamp                                -0.185387              -0.208520   \n",
       "datapath_id                              -0.004813               0.012589   \n",
       "flow_id                                  -0.004386              -0.021536   \n",
       "ip_src                                   -0.007607              -0.037393   \n",
       "tp_src                                    0.000777               0.112819   \n",
       "ip_dst                                   -0.002434              -0.049927   \n",
       "tp_dst                                   -0.000751               0.013044   \n",
       "ip_proto                                 -0.007598               0.012602   \n",
       "icmp_code                                 0.014825               0.089349   \n",
       "icmp_type                                 0.014798               0.032996   \n",
       "flow_duration_sec                         0.007395              -0.012603   \n",
       "flow_duration_nsec                       -0.018146               0.000213   \n",
       "idle_timeout                             -0.008361               0.016441   \n",
       "hard_timeout                             -0.007395               0.012603   \n",
       "flags                                          NaN                    NaN   \n",
       "packet_count                              0.290339               0.333746   \n",
       "byte_count                                0.159800               0.538734   \n",
       "packet_count_per_second                   0.153164               0.641632   \n",
       "packet_count_per_nsecond                  1.000000               0.111137   \n",
       "byte_count_per_second                     0.111137               1.000000   \n",
       "byte_count_per_nsecond                    0.398744               0.110649   \n",
       "label                                    -0.009266              -0.155314   \n",
       "\n",
       "                          byte_count_per_nsecond     label  \n",
       "timestamp                              -0.039711  0.011783  \n",
       "datapath_id                             0.002914 -0.142566  \n",
       "flow_id                                -0.006880  0.115028  \n",
       "ip_src                                 -0.011938  0.199421  \n",
       "tp_src                                  0.038898 -0.281733  \n",
       "ip_dst                                 -0.017440 -0.063098  \n",
       "tp_dst                                  0.004866 -0.633693  \n",
       "ip_proto                               -0.000418  0.244729  \n",
       "icmp_code                               0.033362 -0.375859  \n",
       "icmp_type                               0.006242 -0.029468  \n",
       "flow_duration_sec                       0.019089 -0.362140  \n",
       "flow_duration_nsec                     -0.030013  0.007865  \n",
       "idle_timeout                           -0.019341  0.216550  \n",
       "hard_timeout                           -0.019089  0.362140  \n",
       "flags                                        NaN       NaN  \n",
       "packet_count                            0.074830 -0.024006  \n",
       "byte_count                              0.177021 -0.291044  \n",
       "packet_count_per_second                 0.044252 -0.014127  \n",
       "packet_count_per_nsecond                0.398744 -0.009266  \n",
       "byte_count_per_second                   0.110649 -0.155314  \n",
       "byte_count_per_nsecond                  1.000000 -0.053782  \n",
       "label                                  -0.053782  1.000000  \n",
       "\n",
       "[22 rows x 22 columns]"
      ]
     },
     "execution_count": 8,
     "metadata": {},
     "output_type": "execute_result"
    }
   ],
   "source": [
    "import seaborn\n",
    "df.corr() #for correlation"
   ]
  },
  {
   "cell_type": "code",
   "execution_count": 9,
   "id": "39e8c05a5b81dbae",
   "metadata": {
    "ExecuteTime": {
     "end_time": "2024-01-29T01:11:29.936249468Z",
     "start_time": "2024-01-29T01:11:29.924014449Z"
    },
    "collapsed": false
   },
   "outputs": [
    {
     "data": {
      "text/plain": [
       "\"\\ntimet=df[df['label']==0]['timestamp'][50358] - df[df['label']==0]['timestamp'][0]\\nprint(timet/60)\\n#df[df['label']==0]\\n\""
      ]
     },
     "execution_count": 9,
     "metadata": {},
     "output_type": "execute_result"
    }
   ],
   "source": [
    "'''\n",
    "import datetime\n",
    "\n",
    "t_start=df.iloc[0,0]\n",
    "t_benign=df.iloc[50358,0] #50358 is the last benign row\n",
    "t_ddos=df.iloc[385971,0] #50359 is the first ddos row,385971 is the last ddos row\n",
    "\n",
    "d_start=datetime.datetime.fromtimestamp(t_start)\n",
    "d_benign=datetime.datetime.fromtimestamp(t_benign)\n",
    "d_ddos=datetime.datetime.fromtimestamp(t_ddos)\n",
    "\n",
    "print(\"benign=\",(d_benign-d_start))\n",
    "print(\"ddos=\",(d_ddos-d_benign))\n",
    "print(\"total=\",(d_ddos-d_start))\n",
    "'''\n",
    "'''\n",
    "timet=df[df['label']==0]['timestamp'][50358] - df[df['label']==0]['timestamp'][0]\n",
    "print(timet/60)\n",
    "#df[df['label']==0]\n",
    "'''"
   ]
  },
  {
   "cell_type": "code",
   "execution_count": 10,
   "id": "587db7e9e70e7712",
   "metadata": {
    "ExecuteTime": {
     "end_time": "2024-01-29T07:26:49.437394862Z",
     "start_time": "2024-01-29T07:26:49.258040820Z"
    },
    "collapsed": false
   },
   "outputs": [
    {
     "data": {
      "text/html": [
       "<div>\n",
       "<style scoped>\n",
       "    .dataframe tbody tr th:only-of-type {\n",
       "        vertical-align: middle;\n",
       "    }\n",
       "\n",
       "    .dataframe tbody tr th {\n",
       "        vertical-align: top;\n",
       "    }\n",
       "\n",
       "    .dataframe thead th {\n",
       "        text-align: right;\n",
       "    }\n",
       "</style>\n",
       "<table border=\"1\" class=\"dataframe\">\n",
       "  <thead>\n",
       "    <tr style=\"text-align: right;\">\n",
       "      <th></th>\n",
       "      <th>timestamp</th>\n",
       "      <th>datapath_id</th>\n",
       "      <th>flow_id</th>\n",
       "      <th>ip_src</th>\n",
       "      <th>tp_src</th>\n",
       "      <th>ip_dst</th>\n",
       "      <th>tp_dst</th>\n",
       "      <th>ip_proto</th>\n",
       "      <th>icmp_code</th>\n",
       "      <th>icmp_type</th>\n",
       "      <th>...</th>\n",
       "      <th>idle_timeout</th>\n",
       "      <th>hard_timeout</th>\n",
       "      <th>flags</th>\n",
       "      <th>packet_count</th>\n",
       "      <th>byte_count</th>\n",
       "      <th>packet_count_per_second</th>\n",
       "      <th>packet_count_per_nsecond</th>\n",
       "      <th>byte_count_per_second</th>\n",
       "      <th>byte_count_per_nsecond</th>\n",
       "      <th>label</th>\n",
       "    </tr>\n",
       "  </thead>\n",
       "  <tbody>\n",
       "    <tr>\n",
       "      <th>384911</th>\n",
       "      <td>1.705336e+09</td>\n",
       "      <td>2</td>\n",
       "      <td>1000401000401</td>\n",
       "      <td>10004</td>\n",
       "      <td>0</td>\n",
       "      <td>10004</td>\n",
       "      <td>0</td>\n",
       "      <td>1</td>\n",
       "      <td>0</td>\n",
       "      <td>8</td>\n",
       "      <td>...</td>\n",
       "      <td>20</td>\n",
       "      <td>100</td>\n",
       "      <td>0</td>\n",
       "      <td>404707</td>\n",
       "      <td>65562534</td>\n",
       "      <td>0.000000</td>\n",
       "      <td>0.000000</td>\n",
       "      <td>0.000000e+00</td>\n",
       "      <td>0.000000</td>\n",
       "      <td>1</td>\n",
       "    </tr>\n",
       "    <tr>\n",
       "      <th>384912</th>\n",
       "      <td>1.705336e+09</td>\n",
       "      <td>1</td>\n",
       "      <td>1000401000401</td>\n",
       "      <td>10004</td>\n",
       "      <td>0</td>\n",
       "      <td>10004</td>\n",
       "      <td>0</td>\n",
       "      <td>1</td>\n",
       "      <td>0</td>\n",
       "      <td>8</td>\n",
       "      <td>...</td>\n",
       "      <td>16</td>\n",
       "      <td>96</td>\n",
       "      <td>0</td>\n",
       "      <td>411823</td>\n",
       "      <td>66715326</td>\n",
       "      <td>102955.750000</td>\n",
       "      <td>0.000551</td>\n",
       "      <td>1.667883e+07</td>\n",
       "      <td>0.089192</td>\n",
       "      <td>1</td>\n",
       "    </tr>\n",
       "    <tr>\n",
       "      <th>384913</th>\n",
       "      <td>1.705336e+09</td>\n",
       "      <td>4</td>\n",
       "      <td>100011010001101</td>\n",
       "      <td>100011</td>\n",
       "      <td>0</td>\n",
       "      <td>100011</td>\n",
       "      <td>0</td>\n",
       "      <td>1</td>\n",
       "      <td>0</td>\n",
       "      <td>8</td>\n",
       "      <td>...</td>\n",
       "      <td>15</td>\n",
       "      <td>95</td>\n",
       "      <td>0</td>\n",
       "      <td>542439</td>\n",
       "      <td>87875118</td>\n",
       "      <td>108487.800000</td>\n",
       "      <td>0.001930</td>\n",
       "      <td>1.757502e+07</td>\n",
       "      <td>0.312723</td>\n",
       "      <td>1</td>\n",
       "    </tr>\n",
       "    <tr>\n",
       "      <th>384914</th>\n",
       "      <td>1.705336e+09</td>\n",
       "      <td>2</td>\n",
       "      <td>1000401000401</td>\n",
       "      <td>10004</td>\n",
       "      <td>0</td>\n",
       "      <td>10004</td>\n",
       "      <td>0</td>\n",
       "      <td>1</td>\n",
       "      <td>0</td>\n",
       "      <td>8</td>\n",
       "      <td>...</td>\n",
       "      <td>11</td>\n",
       "      <td>91</td>\n",
       "      <td>0</td>\n",
       "      <td>743180</td>\n",
       "      <td>120395160</td>\n",
       "      <td>82575.555556</td>\n",
       "      <td>0.000797</td>\n",
       "      <td>1.337724e+07</td>\n",
       "      <td>0.129041</td>\n",
       "      <td>1</td>\n",
       "    </tr>\n",
       "    <tr>\n",
       "      <th>384915</th>\n",
       "      <td>1.705336e+09</td>\n",
       "      <td>1</td>\n",
       "      <td>1000401000401</td>\n",
       "      <td>10004</td>\n",
       "      <td>0</td>\n",
       "      <td>10004</td>\n",
       "      <td>0</td>\n",
       "      <td>1</td>\n",
       "      <td>0</td>\n",
       "      <td>8</td>\n",
       "      <td>...</td>\n",
       "      <td>6</td>\n",
       "      <td>86</td>\n",
       "      <td>0</td>\n",
       "      <td>750297</td>\n",
       "      <td>121548114</td>\n",
       "      <td>53592.642857</td>\n",
       "      <td>0.001010</td>\n",
       "      <td>8.682008e+06</td>\n",
       "      <td>0.163591</td>\n",
       "      <td>1</td>\n",
       "    </tr>\n",
       "    <tr>\n",
       "      <th>...</th>\n",
       "      <td>...</td>\n",
       "      <td>...</td>\n",
       "      <td>...</td>\n",
       "      <td>...</td>\n",
       "      <td>...</td>\n",
       "      <td>...</td>\n",
       "      <td>...</td>\n",
       "      <td>...</td>\n",
       "      <td>...</td>\n",
       "      <td>...</td>\n",
       "      <td>...</td>\n",
       "      <td>...</td>\n",
       "      <td>...</td>\n",
       "      <td>...</td>\n",
       "      <td>...</td>\n",
       "      <td>...</td>\n",
       "      <td>...</td>\n",
       "      <td>...</td>\n",
       "      <td>...</td>\n",
       "      <td>...</td>\n",
       "      <td>...</td>\n",
       "    </tr>\n",
       "    <tr>\n",
       "      <th>184734</th>\n",
       "      <td>1.705824e+09</td>\n",
       "      <td>3</td>\n",
       "      <td>174710511010357100021806</td>\n",
       "      <td>1747105110</td>\n",
       "      <td>10357</td>\n",
       "      <td>100021</td>\n",
       "      <td>80</td>\n",
       "      <td>6</td>\n",
       "      <td>-1</td>\n",
       "      <td>-1</td>\n",
       "      <td>...</td>\n",
       "      <td>6</td>\n",
       "      <td>86</td>\n",
       "      <td>0</td>\n",
       "      <td>0</td>\n",
       "      <td>0</td>\n",
       "      <td>0.000000</td>\n",
       "      <td>0.000000</td>\n",
       "      <td>0.000000e+00</td>\n",
       "      <td>0.000000</td>\n",
       "      <td>1</td>\n",
       "    </tr>\n",
       "    <tr>\n",
       "      <th>184732</th>\n",
       "      <td>1.705824e+09</td>\n",
       "      <td>3</td>\n",
       "      <td>17422282410614100021806</td>\n",
       "      <td>174222824</td>\n",
       "      <td>10614</td>\n",
       "      <td>100021</td>\n",
       "      <td>80</td>\n",
       "      <td>6</td>\n",
       "      <td>-1</td>\n",
       "      <td>-1</td>\n",
       "      <td>...</td>\n",
       "      <td>6</td>\n",
       "      <td>86</td>\n",
       "      <td>0</td>\n",
       "      <td>0</td>\n",
       "      <td>0</td>\n",
       "      <td>0.000000</td>\n",
       "      <td>0.000000</td>\n",
       "      <td>0.000000e+00</td>\n",
       "      <td>0.000000</td>\n",
       "      <td>1</td>\n",
       "    </tr>\n",
       "    <tr>\n",
       "      <th>184731</th>\n",
       "      <td>1.705824e+09</td>\n",
       "      <td>3</td>\n",
       "      <td>17416614416010571100021806</td>\n",
       "      <td>174166144160</td>\n",
       "      <td>10571</td>\n",
       "      <td>100021</td>\n",
       "      <td>80</td>\n",
       "      <td>6</td>\n",
       "      <td>-1</td>\n",
       "      <td>-1</td>\n",
       "      <td>...</td>\n",
       "      <td>6</td>\n",
       "      <td>86</td>\n",
       "      <td>0</td>\n",
       "      <td>0</td>\n",
       "      <td>0</td>\n",
       "      <td>0.000000</td>\n",
       "      <td>0.000000</td>\n",
       "      <td>0.000000e+00</td>\n",
       "      <td>0.000000</td>\n",
       "      <td>1</td>\n",
       "    </tr>\n",
       "    <tr>\n",
       "      <th>184729</th>\n",
       "      <td>1.705824e+09</td>\n",
       "      <td>3</td>\n",
       "      <td>1723218818310637100021806</td>\n",
       "      <td>17232188183</td>\n",
       "      <td>10637</td>\n",
       "      <td>100021</td>\n",
       "      <td>80</td>\n",
       "      <td>6</td>\n",
       "      <td>-1</td>\n",
       "      <td>-1</td>\n",
       "      <td>...</td>\n",
       "      <td>6</td>\n",
       "      <td>86</td>\n",
       "      <td>0</td>\n",
       "      <td>0</td>\n",
       "      <td>0</td>\n",
       "      <td>0.000000</td>\n",
       "      <td>0.000000</td>\n",
       "      <td>0.000000e+00</td>\n",
       "      <td>0.000000</td>\n",
       "      <td>1</td>\n",
       "    </tr>\n",
       "    <tr>\n",
       "      <th>184763</th>\n",
       "      <td>1.705824e+09</td>\n",
       "      <td>3</td>\n",
       "      <td>1944016013510428100021806</td>\n",
       "      <td>19440160135</td>\n",
       "      <td>10428</td>\n",
       "      <td>100021</td>\n",
       "      <td>80</td>\n",
       "      <td>6</td>\n",
       "      <td>-1</td>\n",
       "      <td>-1</td>\n",
       "      <td>...</td>\n",
       "      <td>6</td>\n",
       "      <td>86</td>\n",
       "      <td>0</td>\n",
       "      <td>0</td>\n",
       "      <td>0</td>\n",
       "      <td>0.000000</td>\n",
       "      <td>0.000000</td>\n",
       "      <td>0.000000e+00</td>\n",
       "      <td>0.000000</td>\n",
       "      <td>1</td>\n",
       "    </tr>\n",
       "  </tbody>\n",
       "</table>\n",
       "<p>335613 rows × 22 columns</p>\n",
       "</div>"
      ],
      "text/plain": [
       "           timestamp  datapath_id                     flow_id        ip_src  \\\n",
       "384911  1.705336e+09            2               1000401000401         10004   \n",
       "384912  1.705336e+09            1               1000401000401         10004   \n",
       "384913  1.705336e+09            4             100011010001101        100011   \n",
       "384914  1.705336e+09            2               1000401000401         10004   \n",
       "384915  1.705336e+09            1               1000401000401         10004   \n",
       "...              ...          ...                         ...           ...   \n",
       "184734  1.705824e+09            3    174710511010357100021806    1747105110   \n",
       "184732  1.705824e+09            3     17422282410614100021806     174222824   \n",
       "184731  1.705824e+09            3  17416614416010571100021806  174166144160   \n",
       "184729  1.705824e+09            3   1723218818310637100021806   17232188183   \n",
       "184763  1.705824e+09            3   1944016013510428100021806   19440160135   \n",
       "\n",
       "        tp_src  ip_dst  tp_dst  ip_proto  icmp_code  icmp_type  ...  \\\n",
       "384911       0   10004       0         1          0          8  ...   \n",
       "384912       0   10004       0         1          0          8  ...   \n",
       "384913       0  100011       0         1          0          8  ...   \n",
       "384914       0   10004       0         1          0          8  ...   \n",
       "384915       0   10004       0         1          0          8  ...   \n",
       "...        ...     ...     ...       ...        ...        ...  ...   \n",
       "184734   10357  100021      80         6         -1         -1  ...   \n",
       "184732   10614  100021      80         6         -1         -1  ...   \n",
       "184731   10571  100021      80         6         -1         -1  ...   \n",
       "184729   10637  100021      80         6         -1         -1  ...   \n",
       "184763   10428  100021      80         6         -1         -1  ...   \n",
       "\n",
       "        idle_timeout  hard_timeout  flags  packet_count  byte_count  \\\n",
       "384911            20           100      0        404707    65562534   \n",
       "384912            16            96      0        411823    66715326   \n",
       "384913            15            95      0        542439    87875118   \n",
       "384914            11            91      0        743180   120395160   \n",
       "384915             6            86      0        750297   121548114   \n",
       "...              ...           ...    ...           ...         ...   \n",
       "184734             6            86      0             0           0   \n",
       "184732             6            86      0             0           0   \n",
       "184731             6            86      0             0           0   \n",
       "184729             6            86      0             0           0   \n",
       "184763             6            86      0             0           0   \n",
       "\n",
       "        packet_count_per_second  packet_count_per_nsecond  \\\n",
       "384911                 0.000000                  0.000000   \n",
       "384912            102955.750000                  0.000551   \n",
       "384913            108487.800000                  0.001930   \n",
       "384914             82575.555556                  0.000797   \n",
       "384915             53592.642857                  0.001010   \n",
       "...                         ...                       ...   \n",
       "184734                 0.000000                  0.000000   \n",
       "184732                 0.000000                  0.000000   \n",
       "184731                 0.000000                  0.000000   \n",
       "184729                 0.000000                  0.000000   \n",
       "184763                 0.000000                  0.000000   \n",
       "\n",
       "        byte_count_per_second  byte_count_per_nsecond  label  \n",
       "384911           0.000000e+00                0.000000      1  \n",
       "384912           1.667883e+07                0.089192      1  \n",
       "384913           1.757502e+07                0.312723      1  \n",
       "384914           1.337724e+07                0.129041      1  \n",
       "384915           8.682008e+06                0.163591      1  \n",
       "...                       ...                     ...    ...  \n",
       "184734           0.000000e+00                0.000000      1  \n",
       "184732           0.000000e+00                0.000000      1  \n",
       "184731           0.000000e+00                0.000000      1  \n",
       "184729           0.000000e+00                0.000000      1  \n",
       "184763           0.000000e+00                0.000000      1  \n",
       "\n",
       "[335613 rows x 22 columns]"
      ]
     },
     "execution_count": 10,
     "metadata": {},
     "output_type": "execute_result"
    }
   ],
   "source": [
    "df[df['label']==1]"
   ]
  },
  {
   "cell_type": "code",
   "execution_count": 11,
   "id": "e2a88e484a2a121",
   "metadata": {
    "ExecuteTime": {
     "end_time": "2024-01-29T04:57:40.964154178Z",
     "start_time": "2024-01-29T04:57:40.916281253Z"
    },
    "collapsed": false
   },
   "outputs": [],
   "source": [
    "feat={'timestamp','datapath_id','flow_id','ip_src','tp_src','ip_dst','tp_dst','icmp_code'} #dropped additional icmp_code retained icmp_type, refer to 2 links and verify reason for dropping from Arjun\n",
    "flow_datasetn=df.drop(feat,axis=1)"
   ]
  },
  {
   "cell_type": "code",
   "execution_count": 12,
   "id": "90a8b1df96498c4",
   "metadata": {
    "ExecuteTime": {
     "end_time": "2024-01-29T04:57:43.890781779Z",
     "start_time": "2024-01-29T04:57:43.826115810Z"
    },
    "collapsed": false
   },
   "outputs": [
    {
     "data": {
      "text/html": [
       "<div>\n",
       "<style scoped>\n",
       "    .dataframe tbody tr th:only-of-type {\n",
       "        vertical-align: middle;\n",
       "    }\n",
       "\n",
       "    .dataframe tbody tr th {\n",
       "        vertical-align: top;\n",
       "    }\n",
       "\n",
       "    .dataframe thead th {\n",
       "        text-align: right;\n",
       "    }\n",
       "</style>\n",
       "<table border=\"1\" class=\"dataframe\">\n",
       "  <thead>\n",
       "    <tr style=\"text-align: right;\">\n",
       "      <th></th>\n",
       "      <th>ip_proto</th>\n",
       "      <th>icmp_type</th>\n",
       "      <th>flow_duration_sec</th>\n",
       "      <th>flow_duration_nsec</th>\n",
       "      <th>idle_timeout</th>\n",
       "      <th>hard_timeout</th>\n",
       "      <th>flags</th>\n",
       "      <th>packet_count</th>\n",
       "      <th>byte_count</th>\n",
       "      <th>packet_count_per_second</th>\n",
       "      <th>packet_count_per_nsecond</th>\n",
       "      <th>byte_count_per_second</th>\n",
       "      <th>byte_count_per_nsecond</th>\n",
       "      <th>label</th>\n",
       "    </tr>\n",
       "  </thead>\n",
       "  <tbody>\n",
       "    <tr>\n",
       "      <th>384911</th>\n",
       "      <td>1</td>\n",
       "      <td>8</td>\n",
       "      <td>0</td>\n",
       "      <td>5000000</td>\n",
       "      <td>20</td>\n",
       "      <td>100</td>\n",
       "      <td>0</td>\n",
       "      <td>404707</td>\n",
       "      <td>65562534</td>\n",
       "      <td>0.000000</td>\n",
       "      <td>0.000000</td>\n",
       "      <td>0.000000e+00</td>\n",
       "      <td>0.000000</td>\n",
       "      <td>1</td>\n",
       "    </tr>\n",
       "    <tr>\n",
       "      <th>384912</th>\n",
       "      <td>1</td>\n",
       "      <td>8</td>\n",
       "      <td>4</td>\n",
       "      <td>748000000</td>\n",
       "      <td>16</td>\n",
       "      <td>96</td>\n",
       "      <td>0</td>\n",
       "      <td>411823</td>\n",
       "      <td>66715326</td>\n",
       "      <td>102955.750000</td>\n",
       "      <td>0.000551</td>\n",
       "      <td>1.667883e+07</td>\n",
       "      <td>0.089192</td>\n",
       "      <td>1</td>\n",
       "    </tr>\n",
       "    <tr>\n",
       "      <th>384913</th>\n",
       "      <td>1</td>\n",
       "      <td>8</td>\n",
       "      <td>5</td>\n",
       "      <td>281000000</td>\n",
       "      <td>15</td>\n",
       "      <td>95</td>\n",
       "      <td>0</td>\n",
       "      <td>542439</td>\n",
       "      <td>87875118</td>\n",
       "      <td>108487.800000</td>\n",
       "      <td>0.001930</td>\n",
       "      <td>1.757502e+07</td>\n",
       "      <td>0.312723</td>\n",
       "      <td>1</td>\n",
       "    </tr>\n",
       "    <tr>\n",
       "      <th>384914</th>\n",
       "      <td>1</td>\n",
       "      <td>8</td>\n",
       "      <td>9</td>\n",
       "      <td>933000000</td>\n",
       "      <td>11</td>\n",
       "      <td>91</td>\n",
       "      <td>0</td>\n",
       "      <td>743180</td>\n",
       "      <td>120395160</td>\n",
       "      <td>82575.555556</td>\n",
       "      <td>0.000797</td>\n",
       "      <td>1.337724e+07</td>\n",
       "      <td>0.129041</td>\n",
       "      <td>1</td>\n",
       "    </tr>\n",
       "    <tr>\n",
       "      <th>384915</th>\n",
       "      <td>1</td>\n",
       "      <td>8</td>\n",
       "      <td>14</td>\n",
       "      <td>743000000</td>\n",
       "      <td>6</td>\n",
       "      <td>86</td>\n",
       "      <td>0</td>\n",
       "      <td>750297</td>\n",
       "      <td>121548114</td>\n",
       "      <td>53592.642857</td>\n",
       "      <td>0.001010</td>\n",
       "      <td>8.682008e+06</td>\n",
       "      <td>0.163591</td>\n",
       "      <td>1</td>\n",
       "    </tr>\n",
       "  </tbody>\n",
       "</table>\n",
       "</div>"
      ],
      "text/plain": [
       "        ip_proto  icmp_type  flow_duration_sec  flow_duration_nsec  \\\n",
       "384911         1          8                  0             5000000   \n",
       "384912         1          8                  4           748000000   \n",
       "384913         1          8                  5           281000000   \n",
       "384914         1          8                  9           933000000   \n",
       "384915         1          8                 14           743000000   \n",
       "\n",
       "        idle_timeout  hard_timeout  flags  packet_count  byte_count  \\\n",
       "384911            20           100      0        404707    65562534   \n",
       "384912            16            96      0        411823    66715326   \n",
       "384913            15            95      0        542439    87875118   \n",
       "384914            11            91      0        743180   120395160   \n",
       "384915             6            86      0        750297   121548114   \n",
       "\n",
       "        packet_count_per_second  packet_count_per_nsecond  \\\n",
       "384911                 0.000000                  0.000000   \n",
       "384912            102955.750000                  0.000551   \n",
       "384913            108487.800000                  0.001930   \n",
       "384914             82575.555556                  0.000797   \n",
       "384915             53592.642857                  0.001010   \n",
       "\n",
       "        byte_count_per_second  byte_count_per_nsecond  label  \n",
       "384911           0.000000e+00                0.000000      1  \n",
       "384912           1.667883e+07                0.089192      1  \n",
       "384913           1.757502e+07                0.312723      1  \n",
       "384914           1.337724e+07                0.129041      1  \n",
       "384915           8.682008e+06                0.163591      1  "
      ]
     },
     "execution_count": 12,
     "metadata": {},
     "output_type": "execute_result"
    }
   ],
   "source": [
    "flow_datasetn.head()"
   ]
  },
  {
   "cell_type": "code",
   "execution_count": 13,
   "id": "60d18efbf41050a",
   "metadata": {
    "ExecuteTime": {
     "end_time": "2024-01-29T01:11:43.528786930Z",
     "start_time": "2024-01-29T01:11:43.492398924Z"
    },
    "collapsed": false
   },
   "outputs": [
    {
     "data": {
      "text/html": [
       "<div>\n",
       "<style scoped>\n",
       "    .dataframe tbody tr th:only-of-type {\n",
       "        vertical-align: middle;\n",
       "    }\n",
       "\n",
       "    .dataframe tbody tr th {\n",
       "        vertical-align: top;\n",
       "    }\n",
       "\n",
       "    .dataframe thead th {\n",
       "        text-align: right;\n",
       "    }\n",
       "</style>\n",
       "<table border=\"1\" class=\"dataframe\">\n",
       "  <thead>\n",
       "    <tr style=\"text-align: right;\">\n",
       "      <th></th>\n",
       "      <th>timestamp</th>\n",
       "      <th>datapath_id</th>\n",
       "      <th>flow_id</th>\n",
       "      <th>ip_src</th>\n",
       "      <th>tp_src</th>\n",
       "      <th>ip_dst</th>\n",
       "      <th>tp_dst</th>\n",
       "      <th>ip_proto</th>\n",
       "      <th>icmp_code</th>\n",
       "      <th>icmp_type</th>\n",
       "      <th>...</th>\n",
       "      <th>idle_timeout</th>\n",
       "      <th>hard_timeout</th>\n",
       "      <th>flags</th>\n",
       "      <th>packet_count</th>\n",
       "      <th>byte_count</th>\n",
       "      <th>packet_count_per_second</th>\n",
       "      <th>packet_count_per_nsecond</th>\n",
       "      <th>byte_count_per_second</th>\n",
       "      <th>byte_count_per_nsecond</th>\n",
       "      <th>label</th>\n",
       "    </tr>\n",
       "  </thead>\n",
       "  <tbody>\n",
       "    <tr>\n",
       "      <th>384911</th>\n",
       "      <td>1.705336e+09</td>\n",
       "      <td>2</td>\n",
       "      <td>1000401000401</td>\n",
       "      <td>10004</td>\n",
       "      <td>0</td>\n",
       "      <td>10004</td>\n",
       "      <td>0</td>\n",
       "      <td>1</td>\n",
       "      <td>0</td>\n",
       "      <td>8</td>\n",
       "      <td>...</td>\n",
       "      <td>20</td>\n",
       "      <td>100</td>\n",
       "      <td>0</td>\n",
       "      <td>404707</td>\n",
       "      <td>65562534</td>\n",
       "      <td>0.000000</td>\n",
       "      <td>0.000000</td>\n",
       "      <td>0.000000e+00</td>\n",
       "      <td>0.000000</td>\n",
       "      <td>1</td>\n",
       "    </tr>\n",
       "    <tr>\n",
       "      <th>384912</th>\n",
       "      <td>1.705336e+09</td>\n",
       "      <td>1</td>\n",
       "      <td>1000401000401</td>\n",
       "      <td>10004</td>\n",
       "      <td>0</td>\n",
       "      <td>10004</td>\n",
       "      <td>0</td>\n",
       "      <td>1</td>\n",
       "      <td>0</td>\n",
       "      <td>8</td>\n",
       "      <td>...</td>\n",
       "      <td>16</td>\n",
       "      <td>96</td>\n",
       "      <td>0</td>\n",
       "      <td>411823</td>\n",
       "      <td>66715326</td>\n",
       "      <td>102955.750000</td>\n",
       "      <td>0.000551</td>\n",
       "      <td>1.667883e+07</td>\n",
       "      <td>0.089192</td>\n",
       "      <td>1</td>\n",
       "    </tr>\n",
       "    <tr>\n",
       "      <th>384913</th>\n",
       "      <td>1.705336e+09</td>\n",
       "      <td>4</td>\n",
       "      <td>100011010001101</td>\n",
       "      <td>100011</td>\n",
       "      <td>0</td>\n",
       "      <td>100011</td>\n",
       "      <td>0</td>\n",
       "      <td>1</td>\n",
       "      <td>0</td>\n",
       "      <td>8</td>\n",
       "      <td>...</td>\n",
       "      <td>15</td>\n",
       "      <td>95</td>\n",
       "      <td>0</td>\n",
       "      <td>542439</td>\n",
       "      <td>87875118</td>\n",
       "      <td>108487.800000</td>\n",
       "      <td>0.001930</td>\n",
       "      <td>1.757502e+07</td>\n",
       "      <td>0.312723</td>\n",
       "      <td>1</td>\n",
       "    </tr>\n",
       "    <tr>\n",
       "      <th>384914</th>\n",
       "      <td>1.705336e+09</td>\n",
       "      <td>2</td>\n",
       "      <td>1000401000401</td>\n",
       "      <td>10004</td>\n",
       "      <td>0</td>\n",
       "      <td>10004</td>\n",
       "      <td>0</td>\n",
       "      <td>1</td>\n",
       "      <td>0</td>\n",
       "      <td>8</td>\n",
       "      <td>...</td>\n",
       "      <td>11</td>\n",
       "      <td>91</td>\n",
       "      <td>0</td>\n",
       "      <td>743180</td>\n",
       "      <td>120395160</td>\n",
       "      <td>82575.555556</td>\n",
       "      <td>0.000797</td>\n",
       "      <td>1.337724e+07</td>\n",
       "      <td>0.129041</td>\n",
       "      <td>1</td>\n",
       "    </tr>\n",
       "    <tr>\n",
       "      <th>384915</th>\n",
       "      <td>1.705336e+09</td>\n",
       "      <td>1</td>\n",
       "      <td>1000401000401</td>\n",
       "      <td>10004</td>\n",
       "      <td>0</td>\n",
       "      <td>10004</td>\n",
       "      <td>0</td>\n",
       "      <td>1</td>\n",
       "      <td>0</td>\n",
       "      <td>8</td>\n",
       "      <td>...</td>\n",
       "      <td>6</td>\n",
       "      <td>86</td>\n",
       "      <td>0</td>\n",
       "      <td>750297</td>\n",
       "      <td>121548114</td>\n",
       "      <td>53592.642857</td>\n",
       "      <td>0.001010</td>\n",
       "      <td>8.682008e+06</td>\n",
       "      <td>0.163591</td>\n",
       "      <td>1</td>\n",
       "    </tr>\n",
       "  </tbody>\n",
       "</table>\n",
       "<p>5 rows × 22 columns</p>\n",
       "</div>"
      ],
      "text/plain": [
       "           timestamp  datapath_id          flow_id  ip_src  tp_src  ip_dst  \\\n",
       "384911  1.705336e+09            2    1000401000401   10004       0   10004   \n",
       "384912  1.705336e+09            1    1000401000401   10004       0   10004   \n",
       "384913  1.705336e+09            4  100011010001101  100011       0  100011   \n",
       "384914  1.705336e+09            2    1000401000401   10004       0   10004   \n",
       "384915  1.705336e+09            1    1000401000401   10004       0   10004   \n",
       "\n",
       "        tp_dst  ip_proto  icmp_code  icmp_type  ...  idle_timeout  \\\n",
       "384911       0         1          0          8  ...            20   \n",
       "384912       0         1          0          8  ...            16   \n",
       "384913       0         1          0          8  ...            15   \n",
       "384914       0         1          0          8  ...            11   \n",
       "384915       0         1          0          8  ...             6   \n",
       "\n",
       "        hard_timeout  flags  packet_count  byte_count  \\\n",
       "384911           100      0        404707    65562534   \n",
       "384912            96      0        411823    66715326   \n",
       "384913            95      0        542439    87875118   \n",
       "384914            91      0        743180   120395160   \n",
       "384915            86      0        750297   121548114   \n",
       "\n",
       "        packet_count_per_second  packet_count_per_nsecond  \\\n",
       "384911                 0.000000                  0.000000   \n",
       "384912            102955.750000                  0.000551   \n",
       "384913            108487.800000                  0.001930   \n",
       "384914             82575.555556                  0.000797   \n",
       "384915             53592.642857                  0.001010   \n",
       "\n",
       "        byte_count_per_second  byte_count_per_nsecond  label  \n",
       "384911           0.000000e+00                0.000000      1  \n",
       "384912           1.667883e+07                0.089192      1  \n",
       "384913           1.757502e+07                0.312723      1  \n",
       "384914           1.337724e+07                0.129041      1  \n",
       "384915           8.682008e+06                0.163591      1  \n",
       "\n",
       "[5 rows x 22 columns]"
      ]
     },
     "execution_count": 13,
     "metadata": {},
     "output_type": "execute_result"
    }
   ],
   "source": [
    "df.head()"
   ]
  },
  {
   "cell_type": "code",
   "execution_count": 14,
   "id": "4673b540c7ecc727",
   "metadata": {
    "ExecuteTime": {
     "end_time": "2024-01-29T01:40:12.292660472Z",
     "start_time": "2024-01-29T01:40:12.224703683Z"
    },
    "collapsed": false
   },
   "outputs": [
    {
     "name": "stdout",
     "output_type": "stream",
     "text": [
      "(385972, 22)\n",
      "(385972, 14)\n"
     ]
    }
   ],
   "source": [
    "print(df.shape)\n",
    "print(flow_datasetn.shape)"
   ]
  },
  {
   "cell_type": "code",
   "execution_count": 15,
   "id": "1fd365d853bdf057",
   "metadata": {
    "ExecuteTime": {
     "end_time": "2024-01-29T04:57:48.208431535Z",
     "start_time": "2024-01-29T04:57:48.174944984Z"
    },
    "collapsed": false
   },
   "outputs": [],
   "source": [
    "# flow_datasetn.iloc[:, 0] = flow_datasetn.iloc[:, 0].str.replace('.', '')\n",
    "\n",
    "#flow_datasetn.iloc[:, 1] = flow_datasetn.iloc[:, 1].str.replace('.', '')\n",
    "\n",
    "'''\n",
    "X_flow=flow_datasetn.drop('label',axis=1)\n",
    "y_flow=flow_datasetn['label']\n",
    "X_flow = X_flow.astype('float64')\n",
    "'''\n",
    "#X_flow = flow_datasetn.iloc[:, :-1].values\n",
    "#y_flow = flow_datasetn.iloc[:, -1].values\n",
    "\n",
    "\n",
    "X_flow = flow_datasetn.iloc[:, :-1].values\n",
    "X_flow = X_flow.astype('float64')\n",
    "y_flow = flow_datasetn.iloc[:, -1].values\n"
   ]
  },
  {
   "cell_type": "code",
   "execution_count": 16,
   "id": "8b73583f50ceb724",
   "metadata": {
    "ExecuteTime": {
     "end_time": "2024-01-29T01:11:53.108678184Z",
     "start_time": "2024-01-29T01:11:53.062321382Z"
    },
    "collapsed": false
   },
   "outputs": [
    {
     "data": {
      "text/plain": [
       "array([[ 1.00000000e+00,  8.00000000e+00,  0.00000000e+00, ...,\n",
       "         0.00000000e+00,  0.00000000e+00,  0.00000000e+00],\n",
       "       [ 1.00000000e+00,  8.00000000e+00,  4.00000000e+00, ...,\n",
       "         5.50565508e-04,  1.66788315e+07,  8.91916123e-02],\n",
       "       [ 1.00000000e+00,  8.00000000e+00,  5.00000000e+00, ...,\n",
       "         1.93038790e-03,  1.75750236e+07,  3.12722840e-01],\n",
       "       ...,\n",
       "       [ 6.00000000e+00, -1.00000000e+00,  1.40000000e+01, ...,\n",
       "         0.00000000e+00,  0.00000000e+00,  0.00000000e+00],\n",
       "       [ 6.00000000e+00, -1.00000000e+00,  1.40000000e+01, ...,\n",
       "         0.00000000e+00,  0.00000000e+00,  0.00000000e+00],\n",
       "       [ 6.00000000e+00, -1.00000000e+00,  1.40000000e+01, ...,\n",
       "         0.00000000e+00,  0.00000000e+00,  0.00000000e+00]])"
      ]
     },
     "execution_count": 16,
     "metadata": {},
     "output_type": "execute_result"
    }
   ],
   "source": [
    "X_flow"
   ]
  },
  {
   "cell_type": "code",
   "execution_count": 17,
   "id": "f02608f9fbf048",
   "metadata": {
    "ExecuteTime": {
     "end_time": "2024-01-29T00:53:55.970660177Z",
     "start_time": "2024-01-29T00:53:55.946647988Z"
    },
    "collapsed": false
   },
   "outputs": [
    {
     "data": {
      "text/plain": [
       "array([1, 1, 1, ..., 1, 1, 1])"
      ]
     },
     "execution_count": 17,
     "metadata": {},
     "output_type": "execute_result"
    }
   ],
   "source": [
    "y_flow"
   ]
  },
  {
   "cell_type": "code",
   "execution_count": 18,
   "id": "3ff1bf537b8f3ec4",
   "metadata": {
    "ExecuteTime": {
     "end_time": "2024-01-29T04:57:53.664069062Z",
     "start_time": "2024-01-29T04:57:53.511168074Z"
    },
    "collapsed": false
   },
   "outputs": [],
   "source": [
    "rus = RandomUnderSampler(random_state=42)\n",
    "\n",
    "\n",
    "X_flow_train, X_flow_test, y_flow_train, y_flow_test = train_test_split(X_flow, y_flow, test_size=0.2,  random_state=0)\n",
    "X_train_rus, y_train_rus = rus.fit_resample(X_flow_train, y_flow_train) #to balance class distribution for imbalanced dataset,done in train split only\n",
    "\n",
    "#sc = StandardScaler()\n",
    "#X_train_rus = sc.fit_transform(X_train_rus)  #Must have equal len keys and value when setting with a ndarray\n",
    "#X_flow_test = sc.transform(X_flow_test)\n",
    "\n"
   ]
  },
  {
   "cell_type": "code",
   "execution_count": 19,
   "id": "f8cd2f610a14fe45",
   "metadata": {
    "ExecuteTime": {
     "end_time": "2024-01-29T05:00:27.113201194Z",
     "start_time": "2024-01-29T05:00:27.046373572Z"
    },
    "collapsed": false
   },
   "outputs": [],
   "source": [
    "sc=StandardScaler()\n",
    "X_train_rus = sc.fit_transform(X_train_rus)\n",
    "X_flow_test = sc.transform(X_flow_test)"
   ]
  },
  {
   "cell_type": "code",
   "execution_count": 20,
   "id": "f4c06d13bdd124d7",
   "metadata": {
    "ExecuteTime": {
     "end_time": "2024-01-29T05:00:28.743500397Z",
     "start_time": "2024-01-29T05:00:28.693265238Z"
    },
    "collapsed": false
   },
   "outputs": [
    {
     "data": {
      "text/plain": [
       "array([[ 1.27812282, -0.82142458, -1.05416055, ..., -0.03237325,\n",
       "        -0.14181286, -0.04128978],\n",
       "       [-1.01328131,  1.39577355,  0.24724459, ..., -0.03237325,\n",
       "        -0.14181286, -0.04128978],\n",
       "       [ 1.27812282, -0.82142458, -0.81014709, ..., -0.03237325,\n",
       "        -0.14181286, -0.04128978],\n",
       "       ...,\n",
       "       [ 1.27812282, -0.82142458,  0.00323113, ..., -0.03237325,\n",
       "        -0.14181286, -0.04128978],\n",
       "       [-1.01328131,  1.39577355, -0.64747145, ..., -0.03237325,\n",
       "        -0.14181286, -0.04128978],\n",
       "       [-1.01328131,  1.39577355, -1.05416055, ..., -0.03237325,\n",
       "        -0.14181286, -0.04128978]])"
      ]
     },
     "execution_count": 20,
     "metadata": {},
     "output_type": "execute_result"
    }
   ],
   "source": [
    "X_flow_test"
   ]
  },
  {
   "cell_type": "code",
   "execution_count": 21,
   "id": "eb9bc7fb9305f458",
   "metadata": {
    "ExecuteTime": {
     "end_time": "2024-01-29T05:00:33.117236826Z",
     "start_time": "2024-01-29T05:00:32.437177838Z"
    },
    "collapsed": false
   },
   "outputs": [],
   "source": [
    "#Random Forest\n",
    "classifier = RandomForestClassifier(n_estimators=10, criterion=\"entropy\", class_weight='balanced',random_state=0)\n",
    "rf = classifier.fit(X_train_rus, y_train_rus)"
   ]
  },
  {
   "cell_type": "code",
   "execution_count": 22,
   "id": "cb2aa9cf534e375f",
   "metadata": {
    "ExecuteTime": {
     "end_time": "2024-01-29T05:00:35.369269101Z",
     "start_time": "2024-01-29T05:00:35.260342626Z"
    },
    "collapsed": false
   },
   "outputs": [],
   "source": [
    "y_test_rf = rf.predict(X_flow_test)"
   ]
  },
  {
   "cell_type": "code",
   "execution_count": 23,
   "id": "566da27b244792",
   "metadata": {
    "ExecuteTime": {
     "end_time": "2024-01-29T05:00:37.991096845Z",
     "start_time": "2024-01-29T05:00:37.889043270Z"
    },
    "collapsed": false
   },
   "outputs": [],
   "source": [
    "y_train_rf= rf.predict(X_train_rus)"
   ]
  },
  {
   "cell_type": "code",
   "execution_count": 24,
   "id": "bd5cd3d9154c363e",
   "metadata": {
    "ExecuteTime": {
     "end_time": "2024-01-29T02:24:34.624751799Z",
     "start_time": "2024-01-29T02:24:34.583738847Z"
    },
    "collapsed": false
   },
   "outputs": [
    {
     "data": {
      "text/plain": [
       "array([[ 1.27812282, -0.82142458, -1.05416055, ..., -0.03237325,\n",
       "        -0.14181286, -0.04128978],\n",
       "       [-1.01328131,  1.39577355,  0.24724459, ..., -0.03237325,\n",
       "        -0.14181286, -0.04128978],\n",
       "       [ 1.27812282, -0.82142458, -0.81014709, ..., -0.03237325,\n",
       "        -0.14181286, -0.04128978],\n",
       "       ...,\n",
       "       [ 1.27812282, -0.82142458,  0.00323113, ..., -0.03237325,\n",
       "        -0.14181286, -0.04128978],\n",
       "       [-1.01328131,  1.39577355, -0.64747145, ..., -0.03237325,\n",
       "        -0.14181286, -0.04128978],\n",
       "       [-1.01328131,  1.39577355, -1.05416055, ..., -0.03237325,\n",
       "        -0.14181286, -0.04128978]])"
      ]
     },
     "execution_count": 24,
     "metadata": {},
     "output_type": "execute_result"
    }
   ],
   "source": [
    "X_flow_test"
   ]
  },
  {
   "cell_type": "code",
   "execution_count": 25,
   "id": "1bc62182275a34ea",
   "metadata": {
    "ExecuteTime": {
     "end_time": "2024-01-29T05:00:41.349760183Z",
     "start_time": "2024-01-29T05:00:41.287745828Z"
    },
    "collapsed": false
   },
   "outputs": [
    {
     "name": "stdout",
     "output_type": "stream",
     "text": [
      "Training Accuracy: 98.65137226604294\n",
      "Test Accuracy: 97.00239652827256\n"
     ]
    }
   ],
   "source": [
    "from sklearn.metrics import accuracy_score\n",
    "\n",
    "# Calculate accuracy\n",
    "test_accuracy = accuracy_score(y_flow_test, y_test_rf)\n",
    "train_accuracy = accuracy_score(y_train_rus, y_train_rf)\n",
    "\n",
    "print(\"Training Accuracy:\", train_accuracy * 100)\n",
    "print(\"Test Accuracy:\", test_accuracy * 100)"
   ]
  },
  {
   "cell_type": "code",
   "execution_count": 26,
   "id": "d4a53b019bc25200",
   "metadata": {
    "ExecuteTime": {
     "end_time": "2024-01-29T05:00:47.935603721Z",
     "start_time": "2024-01-29T05:00:47.806624789Z"
    },
    "collapsed": false
   },
   "outputs": [
    {
     "name": "stdout",
     "output_type": "stream",
     "text": [
      "              precision    recall  f1-score   support\n",
      "\n",
      "           0       0.84      0.95      0.89     10170\n",
      "           1       0.99      0.97      0.98     67025\n",
      "\n",
      "    accuracy                           0.97     77195\n",
      "   macro avg       0.92      0.96      0.94     77195\n",
      "weighted avg       0.97      0.97      0.97     77195\n",
      "\n"
     ]
    }
   ],
   "source": [
    "from sklearn.metrics import classification_report\n",
    "print(classification_report(y_flow_test, y_test_rf ))"
   ]
  },
  {
   "cell_type": "code",
   "execution_count": 27,
   "id": "38ddd2c678763929",
   "metadata": {
    "ExecuteTime": {
     "end_time": "2024-01-29T05:00:50.767750840Z",
     "start_time": "2024-01-29T05:00:50.725236798Z"
    },
    "collapsed": false
   },
   "outputs": [
    {
     "data": {
      "text/plain": [
       "array([0, 1])"
      ]
     },
     "execution_count": 27,
     "metadata": {},
     "output_type": "execute_result"
    }
   ],
   "source": [
    "rf.classes_"
   ]
  },
  {
   "cell_type": "code",
   "execution_count": 28,
   "id": "58ac1f6edcbe2e91",
   "metadata": {
    "ExecuteTime": {
     "end_time": "2024-01-29T08:09:06.557406077Z",
     "start_time": "2024-01-29T08:09:06.374039797Z"
    },
    "collapsed": false
   },
   "outputs": [
    {
     "name": "stdout",
     "output_type": "stream",
     "text": [
      "[[ 9708   462]\n",
      " [ 1852 65173]]\n"
     ]
    },
    {
     "data": {
      "image/png": "[encoded data removed]",
      "text/plain": [
       "<Figure size 640x480 with 2 Axes>"
      ]
     },
     "metadata": {},
     "output_type": "display_data"
    }
   ],
   "source": [
    "cm_rf=confusion_matrix(y_flow_test, y_test_rf,labels=rf.classes_)\n",
    "print(cm_rf)\n",
    "cm = confusion_matrix(y_flow_test, y_test_rf, labels=rf.classes_)\n",
    "disp = ConfusionMatrixDisplay(confusion_matrix=cm, display_labels=rf.classes_)\n",
    "disp.plot()\n",
    "plt.show()\n"
   ]
  },
  {
   "cell_type": "code",
   "execution_count": 29,
   "id": "fac04f7fa725bbcf",
   "metadata": {
    "ExecuteTime": {
     "end_time": "2024-01-29T05:40:54.441045670Z",
     "start_time": "2024-01-29T05:40:54.197317032Z"
    },
    "collapsed": false
   },
   "outputs": [
    {
     "data": {
      "image/png": "[encoded data removed]",
      "text/plain": [
       "<Figure size 640x480 with 2 Axes>"
      ]
     },
     "metadata": {},
     "output_type": "display_data"
    }
   ],
   "source": [
    "tp = 0\n",
    "tn = 0\n",
    "fp = 0\n",
    "fn = 0\n",
    "predictn = y_test_rf.flatten().round()\n",
    "predictn = predictn.tolist()\n",
    "Y_testn = y_flow_test.tolist()\n",
    "for i in range(len(Y_testn)):\n",
    "  if predictn[i]==1 and Y_testn[i]==1:\n",
    "    tp+=1\n",
    "  elif predictn[i]==0 and Y_testn[i]==0:\n",
    "    tn+=1\n",
    "  elif predictn[i]==0 and Y_testn[i]==1:\n",
    "    fn+=1\n",
    "  elif predictn[i]==1 and Y_testn[i]==0:\n",
    "    fp+=1\n",
    "      \n",
    "to_heat_map =[[tn,fp],[fn,tp]]\n",
    "to_heat_map = pd.DataFrame(to_heat_map, index = ['normal','attack'],columns = ['normal','attack'])\n",
    "ax = sns.heatmap(to_heat_map,annot=True, fmt=\"d\")   \n"
   ]
  },
  {
   "cell_type": "code",
   "execution_count": 30,
   "id": "4a639b6a181ca714",
   "metadata": {
    "ExecuteTime": {
     "end_time": "2024-01-29T05:28:36.341349880Z",
     "start_time": "2024-01-29T05:28:36.020264330Z"
    },
    "collapsed": false
   },
   "outputs": [
    {
     "data": {
      "text/html": [
       "<style>#sk-container-id-1 {color: black;}#sk-container-id-1 pre{padding: 0;}#sk-container-id-1 div.sk-toggleable {background-color: white;}#sk-container-id-1 label.sk-toggleable__label {cursor: pointer;display: block;width: 100%;margin-bottom: 0;padding: 0.3em;box-sizing: border-box;text-align: center;}#sk-container-id-1 label.sk-toggleable__label-arrow:before {content: \"▸\";float: left;margin-right: 0.25em;color: #696969;}#sk-container-id-1 label.sk-toggleable__label-arrow:hover:before {color: black;}#sk-container-id-1 div.sk-estimator:hover label.sk-toggleable__label-arrow:before {color: black;}#sk-container-id-1 div.sk-toggleable__content {max-height: 0;max-width: 0;overflow: hidden;text-align: left;background-color: #f0f8ff;}#sk-container-id-1 div.sk-toggleable__content pre {margin: 0.2em;color: black;border-radius: 0.25em;background-color: #f0f8ff;}#sk-container-id-1 input.sk-toggleable__control:checked~div.sk-toggleable__content {max-height: 200px;max-width: 100%;overflow: auto;}#sk-container-id-1 input.sk-toggleable__control:checked~label.sk-toggleable__label-arrow:before {content: \"▾\";}#sk-container-id-1 div.sk-estimator input.sk-toggleable__control:checked~label.sk-toggleable__label {background-color: #d4ebff;}#sk-container-id-1 div.sk-label input.sk-toggleable__control:checked~label.sk-toggleable__label {background-color: #d4ebff;}#sk-container-id-1 input.sk-hidden--visually {border: 0;clip: rect(1px 1px 1px 1px);clip: rect(1px, 1px, 1px, 1px);height: 1px;margin: -1px;overflow: hidden;padding: 0;position: absolute;width: 1px;}#sk-container-id-1 div.sk-estimator {font-family: monospace;background-color: #f0f8ff;border: 1px dotted black;border-radius: 0.25em;box-sizing: border-box;margin-bottom: 0.5em;}#sk-container-id-1 div.sk-estimator:hover {background-color: #d4ebff;}#sk-container-id-1 div.sk-parallel-item::after {content: \"\";width: 100%;border-bottom: 1px solid gray;flex-grow: 1;}#sk-container-id-1 div.sk-label:hover label.sk-toggleable__label {background-color: #d4ebff;}#sk-container-id-1 div.sk-serial::before {content: \"\";position: absolute;border-left: 1px solid gray;box-sizing: border-box;top: 0;bottom: 0;left: 50%;z-index: 0;}#sk-container-id-1 div.sk-serial {display: flex;flex-direction: column;align-items: center;background-color: white;padding-right: 0.2em;padding-left: 0.2em;position: relative;}#sk-container-id-1 div.sk-item {position: relative;z-index: 1;}#sk-container-id-1 div.sk-parallel {display: flex;align-items: stretch;justify-content: center;background-color: white;position: relative;}#sk-container-id-1 div.sk-item::before, #sk-container-id-1 div.sk-parallel-item::before {content: \"\";position: absolute;border-left: 1px solid gray;box-sizing: border-box;top: 0;bottom: 0;left: 50%;z-index: -1;}#sk-container-id-1 div.sk-parallel-item {display: flex;flex-direction: column;z-index: 1;position: relative;background-color: white;}#sk-container-id-1 div.sk-parallel-item:first-child::after {align-self: flex-end;width: 50%;}#sk-container-id-1 div.sk-parallel-item:last-child::after {align-self: flex-start;width: 50%;}#sk-container-id-1 div.sk-parallel-item:only-child::after {width: 0;}#sk-container-id-1 div.sk-dashed-wrapped {border: 1px dashed gray;margin: 0 0.4em 0.5em 0.4em;box-sizing: border-box;padding-bottom: 0.4em;background-color: white;}#sk-container-id-1 div.sk-label label {font-family: monospace;font-weight: bold;display: inline-block;line-height: 1.2em;}#sk-container-id-1 div.sk-label-container {text-align: center;}#sk-container-id-1 div.sk-container {/* jupyter's `normalize.less` sets `[hidden] { display: none; }` but bootstrap.min.css set `[hidden] { display: none !important; }` so we also need the `!important` here to be able to override the default hidden behavior on the sphinx rendered scikit-learn.org. See: https://github.com/scikit-learn/scikit-learn/issues/21755 */display: inline-block !important;position: relative;}#sk-container-id-1 div.sk-text-repr-fallback {display: none;}</style><div id=\"sk-container-id-1\" class=\"sk-top-container\"><div class=\"sk-text-repr-fallback\"><pre>XGBClassifier(base_score=None, booster=None, callbacks=None,\n",
       "              colsample_bylevel=None, colsample_bynode=None,\n",
       "              colsample_bytree=None, device=None, early_stopping_rounds=None,\n",
       "              enable_categorical=False, eval_metric=None, feature_types=None,\n",
       "              gamma=None, grow_policy=None, importance_type=None,\n",
       "              interaction_constraints=None, learning_rate=None, max_bin=None,\n",
       "              max_cat_threshold=None, max_cat_to_onehot=None,\n",
       "              max_delta_step=None, max_depth=None, max_leaves=None,\n",
       "              min_child_weight=None, missing=nan, monotone_constraints=None,\n",
       "              multi_strategy=None, n_estimators=None, n_jobs=None,\n",
       "              num_parallel_tree=None, random_state=0, ...)</pre><b>In a Jupyter environment, please rerun this cell to show the HTML representation or trust the notebook. <br />On GitHub, the HTML representation is unable to render, please try loading this page with nbviewer.org.</b></div><div class=\"sk-container\" hidden><div class=\"sk-item\"><div class=\"sk-estimator sk-toggleable\"><input class=\"sk-toggleable__control sk-hidden--visually\" id=\"sk-estimator-id-1\" type=\"checkbox\" checked><label for=\"sk-estimator-id-1\" class=\"sk-toggleable__label sk-toggleable__label-arrow\">XGBClassifier</label><div class=\"sk-toggleable__content\"><pre>XGBClassifier(base_score=None, booster=None, callbacks=None,\n",
       "              colsample_bylevel=None, colsample_bynode=None,\n",
       "              colsample_bytree=None, device=None, early_stopping_rounds=None,\n",
       "              enable_categorical=False, eval_metric=None, feature_types=None,\n",
       "              gamma=None, grow_policy=None, importance_type=None,\n",
       "              interaction_constraints=None, learning_rate=None, max_bin=None,\n",
       "              max_cat_threshold=None, max_cat_to_onehot=None,\n",
       "              max_delta_step=None, max_depth=None, max_leaves=None,\n",
       "              min_child_weight=None, missing=nan, monotone_constraints=None,\n",
       "              multi_strategy=None, n_estimators=None, n_jobs=None,\n",
       "              num_parallel_tree=None, random_state=0, ...)</pre></div></div></div></div></div>"
      ],
      "text/plain": [
       "XGBClassifier(base_score=None, booster=None, callbacks=None,\n",
       "              colsample_bylevel=None, colsample_bynode=None,\n",
       "              colsample_bytree=None, device=None, early_stopping_rounds=None,\n",
       "              enable_categorical=False, eval_metric=None, feature_types=None,\n",
       "              gamma=None, grow_policy=None, importance_type=None,\n",
       "              interaction_constraints=None, learning_rate=None, max_bin=None,\n",
       "              max_cat_threshold=None, max_cat_to_onehot=None,\n",
       "              max_delta_step=None, max_depth=None, max_leaves=None,\n",
       "              min_child_weight=None, missing=nan, monotone_constraints=None,\n",
       "              multi_strategy=None, n_estimators=None, n_jobs=None,\n",
       "              num_parallel_tree=None, random_state=0, ...)"
      ]
     },
     "execution_count": 30,
     "metadata": {},
     "output_type": "execute_result"
    }
   ],
   "source": [
    "##################XGBoost\n",
    "import xgboost as xgb\n",
    "\n",
    "xgb_model = xgb.XGBClassifier(random_state=0)\n",
    "xgb_model.fit(X_train_rus, y_train_rus)\n"
   ]
  },
  {
   "cell_type": "code",
   "execution_count": 31,
   "id": "aad30ddb7c78a636",
   "metadata": {
    "ExecuteTime": {
     "end_time": "2024-01-29T08:20:05.879590861Z",
     "start_time": "2024-01-29T08:20:05.775787777Z"
    },
    "collapsed": false
   },
   "outputs": [],
   "source": [
    "y_test_xgb = xgb_model.predict(X_flow_test)\n"
   ]
  },
  {
   "cell_type": "code",
   "execution_count": 32,
   "id": "997fc3e16a67dbf3",
   "metadata": {
    "ExecuteTime": {
     "end_time": "2024-01-29T05:28:41.163647252Z",
     "start_time": "2024-01-29T05:28:41.094042286Z"
    },
    "collapsed": false
   },
   "outputs": [],
   "source": [
    "y_train_xgb = xgb_model.predict(X_train_rus)"
   ]
  },
  {
   "cell_type": "code",
   "execution_count": 33,
   "id": "7334c7fbe854d04c",
   "metadata": {
    "ExecuteTime": {
     "end_time": "2024-01-29T05:28:41.920678027Z",
     "start_time": "2024-01-29T05:28:41.882247052Z"
    },
    "collapsed": false
   },
   "outputs": [
    {
     "name": "stdout",
     "output_type": "stream",
     "text": [
      "Training Accuracy: 97.30025628903431\n",
      "Test Accuracy: 98.58669602953559\n"
     ]
    }
   ],
   "source": [
    "from sklearn.metrics import accuracy_score\n",
    "from sklearn.metrics import classification_report\n",
    "\n",
    "# Calculate accuracy\n",
    "test_accuracy = accuracy_score(y_flow_test, y_test_xgb )\n",
    "train_accuracy = accuracy_score(y_train_rus, y_train_xgb)\n",
    "\n",
    "print(\"Training Accuracy:\", train_accuracy * 100)\n",
    "print(\"Test Accuracy:\", test_accuracy * 100)"
   ]
  },
  {
   "cell_type": "code",
   "execution_count": 34,
   "id": "729dd69c4ac7621d",
   "metadata": {
    "ExecuteTime": {
     "end_time": "2024-01-29T05:28:43.333512941Z",
     "start_time": "2024-01-29T05:28:43.208603412Z"
    },
    "collapsed": false
   },
   "outputs": [
    {
     "name": "stdout",
     "output_type": "stream",
     "text": [
      "              precision    recall  f1-score   support\n",
      "\n",
      "           0       0.95      0.95      0.95     10170\n",
      "           1       0.99      0.99      0.99     67025\n",
      "\n",
      "    accuracy                           0.99     77195\n",
      "   macro avg       0.97      0.97      0.97     77195\n",
      "weighted avg       0.99      0.99      0.99     77195\n",
      "\n"
     ]
    }
   ],
   "source": [
    "from sklearn.metrics import classification_report\n",
    "print(classification_report(y_flow_test,  y_test_xgb))"
   ]
  },
  {
   "cell_type": "code",
   "execution_count": 35,
   "id": "848b988bb81f9339",
   "metadata": {
    "ExecuteTime": {
     "end_time": "2024-01-29T05:28:47.990866474Z",
     "start_time": "2024-01-29T05:28:47.773544549Z"
    },
    "collapsed": false
   },
   "outputs": [
    {
     "name": "stdout",
     "output_type": "stream",
     "text": [
      "[[ 9640   530]\n",
      " [  561 66464]]"
     ]
    },
    {
     "name": "stdout",
     "output_type": "stream",
     "text": [
      "\n"
     ]
    },
    {
     "data": {
      "text/plain": [
       "<sklearn.metrics._plot.confusion_matrix.ConfusionMatrixDisplay at 0x7fc5641e6440>"
      ]
     },
     "execution_count": 35,
     "metadata": {},
     "output_type": "execute_result"
    },
    {
     "data": {
      "image/png": "[encoded data removed]",
      "text/plain": [
       "<Figure size 640x480 with 2 Axes>"
      ]
     },
     "metadata": {},
     "output_type": "display_data"
    }
   ],
   "source": [
    "cm_xgb=confusion_matrix(y_flow_test, y_test_xgb,labels=xgb_model.classes_)\n",
    "print(cm_xgb)\n",
    "cm_disp_xgb=ConfusionMatrixDisplay(confusion_matrix=cm_xgb,display_labels=['beingn','attack'])\n",
    "cm_disp_xgb.plot(cmap='coolwarm')\n"
   ]
  },
  {
   "cell_type": "code",
   "execution_count": 36,
   "id": "7b97946d1c667b79",
   "metadata": {
    "ExecuteTime": {
     "end_time": "2024-01-29T05:41:43.541202680Z",
     "start_time": "2024-01-29T05:41:43.330297796Z"
    },
    "collapsed": false
   },
   "outputs": [
    {
     "data": {
      "image/png": "[encoded data removed]",
      "text/plain": [
       "<Figure size 640x480 with 2 Axes>"
      ]
     },
     "metadata": {},
     "output_type": "display_data"
    }
   ],
   "source": [
    "tp = 0\n",
    "tn = 0\n",
    "fp = 0\n",
    "fn = 0\n",
    "predictn = y_test_xgb.flatten().round()\n",
    "predictn = predictn.tolist()\n",
    "Y_testn = y_flow_test.tolist()\n",
    "for i in range(len(Y_testn)):\n",
    "  if predictn[i]==1 and Y_testn[i]==1:\n",
    "    tp+=1\n",
    "  elif predictn[i]==0 and Y_testn[i]==0:\n",
    "    tn+=1\n",
    "  elif predictn[i]==0 and Y_testn[i]==1:\n",
    "    fn+=1\n",
    "  elif predictn[i]==1 and Y_testn[i]==0:\n",
    "    fp+=1\n",
    "      \n",
    "to_heat_map =[[tn,fp],[fn,tp]]\n",
    "to_heat_map = pd.DataFrame(to_heat_map, index = ['normal','attack'],columns = ['normal','attack'])\n",
    "ax = sns.heatmap(to_heat_map,annot=True, fmt=\"d\")   \n"
   ]
  },
  {
   "cell_type": "code",
   "execution_count": 37,
   "id": "ea0917bd21cb6727",
   "metadata": {
    "ExecuteTime": {
     "end_time": "2024-01-29T05:29:29.470843489Z",
     "start_time": "2024-01-29T05:29:29.433768637Z"
    },
    "collapsed": false
   },
   "outputs": [
    {
     "data": {
      "text/html": [
       "<style>#sk-container-id-2 {color: black;}#sk-container-id-2 pre{padding: 0;}#sk-container-id-2 div.sk-toggleable {background-color: white;}#sk-container-id-2 label.sk-toggleable__label {cursor: pointer;display: block;width: 100%;margin-bottom: 0;padding: 0.3em;box-sizing: border-box;text-align: center;}#sk-container-id-2 label.sk-toggleable__label-arrow:before {content: \"▸\";float: left;margin-right: 0.25em;color: #696969;}#sk-container-id-2 label.sk-toggleable__label-arrow:hover:before {color: black;}#sk-container-id-2 div.sk-estimator:hover label.sk-toggleable__label-arrow:before {color: black;}#sk-container-id-2 div.sk-toggleable__content {max-height: 0;max-width: 0;overflow: hidden;text-align: left;background-color: #f0f8ff;}#sk-container-id-2 div.sk-toggleable__content pre {margin: 0.2em;color: black;border-radius: 0.25em;background-color: #f0f8ff;}#sk-container-id-2 input.sk-toggleable__control:checked~div.sk-toggleable__content {max-height: 200px;max-width: 100%;overflow: auto;}#sk-container-id-2 input.sk-toggleable__control:checked~label.sk-toggleable__label-arrow:before {content: \"▾\";}#sk-container-id-2 div.sk-estimator input.sk-toggleable__control:checked~label.sk-toggleable__label {background-color: #d4ebff;}#sk-container-id-2 div.sk-label input.sk-toggleable__control:checked~label.sk-toggleable__label {background-color: #d4ebff;}#sk-container-id-2 input.sk-hidden--visually {border: 0;clip: rect(1px 1px 1px 1px);clip: rect(1px, 1px, 1px, 1px);height: 1px;margin: -1px;overflow: hidden;padding: 0;position: absolute;width: 1px;}#sk-container-id-2 div.sk-estimator {font-family: monospace;background-color: #f0f8ff;border: 1px dotted black;border-radius: 0.25em;box-sizing: border-box;margin-bottom: 0.5em;}#sk-container-id-2 div.sk-estimator:hover {background-color: #d4ebff;}#sk-container-id-2 div.sk-parallel-item::after {content: \"\";width: 100%;border-bottom: 1px solid gray;flex-grow: 1;}#sk-container-id-2 div.sk-label:hover label.sk-toggleable__label {background-color: #d4ebff;}#sk-container-id-2 div.sk-serial::before {content: \"\";position: absolute;border-left: 1px solid gray;box-sizing: border-box;top: 0;bottom: 0;left: 50%;z-index: 0;}#sk-container-id-2 div.sk-serial {display: flex;flex-direction: column;align-items: center;background-color: white;padding-right: 0.2em;padding-left: 0.2em;position: relative;}#sk-container-id-2 div.sk-item {position: relative;z-index: 1;}#sk-container-id-2 div.sk-parallel {display: flex;align-items: stretch;justify-content: center;background-color: white;position: relative;}#sk-container-id-2 div.sk-item::before, #sk-container-id-2 div.sk-parallel-item::before {content: \"\";position: absolute;border-left: 1px solid gray;box-sizing: border-box;top: 0;bottom: 0;left: 50%;z-index: -1;}#sk-container-id-2 div.sk-parallel-item {display: flex;flex-direction: column;z-index: 1;position: relative;background-color: white;}#sk-container-id-2 div.sk-parallel-item:first-child::after {align-self: flex-end;width: 50%;}#sk-container-id-2 div.sk-parallel-item:last-child::after {align-self: flex-start;width: 50%;}#sk-container-id-2 div.sk-parallel-item:only-child::after {width: 0;}#sk-container-id-2 div.sk-dashed-wrapped {border: 1px dashed gray;margin: 0 0.4em 0.5em 0.4em;box-sizing: border-box;padding-bottom: 0.4em;background-color: white;}#sk-container-id-2 div.sk-label label {font-family: monospace;font-weight: bold;display: inline-block;line-height: 1.2em;}#sk-container-id-2 div.sk-label-container {text-align: center;}#sk-container-id-2 div.sk-container {/* jupyter's `normalize.less` sets `[hidden] { display: none; }` but bootstrap.min.css set `[hidden] { display: none !important; }` so we also need the `!important` here to be able to override the default hidden behavior on the sphinx rendered scikit-learn.org. See: https://github.com/scikit-learn/scikit-learn/issues/21755 */display: inline-block !important;position: relative;}#sk-container-id-2 div.sk-text-repr-fallback {display: none;}</style><div id=\"sk-container-id-2\" class=\"sk-top-container\"><div class=\"sk-text-repr-fallback\"><pre>GaussianNB()</pre><b>In a Jupyter environment, please rerun this cell to show the HTML representation or trust the notebook. <br />On GitHub, the HTML representation is unable to render, please try loading this page with nbviewer.org.</b></div><div class=\"sk-container\" hidden><div class=\"sk-item\"><div class=\"sk-estimator sk-toggleable\"><input class=\"sk-toggleable__control sk-hidden--visually\" id=\"sk-estimator-id-2\" type=\"checkbox\" checked><label for=\"sk-estimator-id-2\" class=\"sk-toggleable__label sk-toggleable__label-arrow\">GaussianNB</label><div class=\"sk-toggleable__content\"><pre>GaussianNB()</pre></div></div></div></div></div>"
      ],
      "text/plain": [
       "GaussianNB()"
      ]
     },
     "execution_count": 37,
     "metadata": {},
     "output_type": "execute_result"
    }
   ],
   "source": [
    "######Naive Bayes\n",
    "from sklearn.naive_bayes import GaussianNB\n",
    "from sklearn.metrics import confusion_matrix\n",
    "from sklearn.metrics import classification_report\n",
    "from sklearn.metrics import accuracy_score\n",
    "\n",
    "nb = GaussianNB()\n",
    "nb.fit(X_train_rus, y_train_rus)\n"
   ]
  },
  {
   "cell_type": "code",
   "execution_count": 38,
   "id": "28ad4ef96e2bee90",
   "metadata": {
    "ExecuteTime": {
     "end_time": "2024-01-29T05:29:36.522462622Z",
     "start_time": "2024-01-29T05:29:36.476762926Z"
    },
    "collapsed": false
   },
   "outputs": [],
   "source": [
    "y_test_nb = nb.predict(X_flow_test)"
   ]
  },
  {
   "cell_type": "code",
   "execution_count": 39,
   "id": "8d8e4a5190880281",
   "metadata": {
    "ExecuteTime": {
     "end_time": "2024-01-29T05:29:37.339823101Z",
     "start_time": "2024-01-29T05:29:37.285962776Z"
    },
    "collapsed": false
   },
   "outputs": [],
   "source": [
    "y_train_nb = nb.predict(X_train_rus)"
   ]
  },
  {
   "cell_type": "code",
   "execution_count": 40,
   "id": "e19187758d8b9d47",
   "metadata": {
    "ExecuteTime": {
     "end_time": "2024-01-29T05:29:38.052330026Z",
     "start_time": "2024-01-29T05:29:38.020607394Z"
    },
    "collapsed": false
   },
   "outputs": [
    {
     "name": "stdout",
     "output_type": "stream",
     "text": [
      "Training Accuracy: 67.76729950981611\n",
      "Test Accuracy: 91.53960748753157\n"
     ]
    }
   ],
   "source": [
    "from sklearn.metrics import accuracy_score\n",
    "\n",
    "# Calculate accuracy\n",
    "test_accuracy = accuracy_score(y_flow_test, y_test_nb)\n",
    "train_accuracy = accuracy_score(y_train_rus, y_train_nb)\n",
    "\n",
    "print(\"Training Accuracy:\", train_accuracy * 100)\n",
    "print(\"Test Accuracy:\", test_accuracy * 100)"
   ]
  },
  {
   "cell_type": "code",
   "execution_count": 41,
   "id": "956cc12ecbcf60b5",
   "metadata": {
    "ExecuteTime": {
     "end_time": "2024-01-29T05:29:40.869625502Z",
     "start_time": "2024-01-29T05:29:40.756677963Z"
    },
    "collapsed": false
   },
   "outputs": [
    {
     "name": "stdout",
     "output_type": "stream",
     "text": [
      "              precision    recall  f1-score   support\n",
      "\n",
      "           0       0.99      0.36      0.53     10170\n",
      "           1       0.91      1.00      0.95     67025\n",
      "\n",
      "    accuracy                           0.92     77195\n",
      "   macro avg       0.95      0.68      0.74     77195\n",
      "weighted avg       0.92      0.92      0.90     77195\n",
      "\n"
     ]
    }
   ],
   "source": [
    "from sklearn.metrics import classification_report\n",
    "print(classification_report(y_flow_test,  y_test_nb))\n"
   ]
  },
  {
   "cell_type": "code",
   "execution_count": 42,
   "id": "78d6b21eb1736602",
   "metadata": {
    "ExecuteTime": {
     "end_time": "2024-01-29T05:29:43.812980859Z",
     "start_time": "2024-01-29T05:29:43.554704204Z"
    },
    "collapsed": false
   },
   "outputs": [
    {
     "name": "stdout",
     "output_type": "stream",
     "text": [
      "[[ 3674  6496]\n",
      " [   35 66990]]\n"
     ]
    },
    {
     "data": {
      "text/plain": [
       "<sklearn.metrics._plot.confusion_matrix.ConfusionMatrixDisplay at 0x7fc55dedbdf0>"
      ]
     },
     "execution_count": 42,
     "metadata": {},
     "output_type": "execute_result"
    },
    {
     "data": {
      "image/png": "[encoded data removed]",
      "text/plain": [
       "<Figure size 640x480 with 2 Axes>"
      ]
     },
     "metadata": {},
     "output_type": "display_data"
    }
   ],
   "source": [
    "cm_nb=confusion_matrix(y_flow_test, y_test_nb,labels=nb.classes_)\n",
    "print(cm_nb)\n",
    "cm_disp_nb=ConfusionMatrixDisplay(confusion_matrix=cm_nb,display_labels=['beingn','attack'])\n",
    "cm_disp_nb.plot(cmap='coolwarm')"
   ]
  },
  {
   "cell_type": "code",
   "execution_count": 43,
   "id": "77ef6c3f117c708f",
   "metadata": {
    "ExecuteTime": {
     "end_time": "2024-01-29T05:42:15.048932438Z",
     "start_time": "2024-01-29T05:42:14.823050681Z"
    },
    "collapsed": false
   },
   "outputs": [
    {
     "data": {
      "image/png": "[encoded data removed]",
      "text/plain": [
       "<Figure size 640x480 with 2 Axes>"
      ]
     },
     "metadata": {},
     "output_type": "display_data"
    }
   ],
   "source": [
    "tp = 0\n",
    "tn = 0\n",
    "fp = 0\n",
    "fn = 0\n",
    "predictn = y_test_nb.flatten().round()\n",
    "predictn = predictn.tolist()\n",
    "Y_testn = y_flow_test.tolist()\n",
    "for i in range(len(Y_testn)):\n",
    "  if predictn[i]==1 and Y_testn[i]==1:\n",
    "    tp+=1\n",
    "  elif predictn[i]==0 and Y_testn[i]==0:\n",
    "    tn+=1\n",
    "  elif predictn[i]==0 and Y_testn[i]==1:\n",
    "    fn+=1\n",
    "  elif predictn[i]==1 and Y_testn[i]==0:\n",
    "    fp+=1\n",
    "      \n",
    "to_heat_map =[[tn,fp],[fn,tp]]\n",
    "to_heat_map = pd.DataFrame(to_heat_map, index = ['normal','attack'],columns = ['normal','attack'])\n",
    "ax = sns.heatmap(to_heat_map,annot=True, fmt=\"d\")   \n"
   ]
  },
  {
   "cell_type": "code",
   "execution_count": 44,
   "id": "dbcfbcc0e1ce076b",
   "metadata": {
    "ExecuteTime": {
     "end_time": "2024-01-29T05:30:16.830904732Z",
     "start_time": "2024-01-29T05:30:16.654921365Z"
    },
    "collapsed": false
   },
   "outputs": [
    {
     "data": {
      "text/html": [
       "<style>#sk-container-id-3 {color: black;}#sk-container-id-3 pre{padding: 0;}#sk-container-id-3 div.sk-toggleable {background-color: white;}#sk-container-id-3 label.sk-toggleable__label {cursor: pointer;display: block;width: 100%;margin-bottom: 0;padding: 0.3em;box-sizing: border-box;text-align: center;}#sk-container-id-3 label.sk-toggleable__label-arrow:before {content: \"▸\";float: left;margin-right: 0.25em;color: #696969;}#sk-container-id-3 label.sk-toggleable__label-arrow:hover:before {color: black;}#sk-container-id-3 div.sk-estimator:hover label.sk-toggleable__label-arrow:before {color: black;}#sk-container-id-3 div.sk-toggleable__content {max-height: 0;max-width: 0;overflow: hidden;text-align: left;background-color: #f0f8ff;}#sk-container-id-3 div.sk-toggleable__content pre {margin: 0.2em;color: black;border-radius: 0.25em;background-color: #f0f8ff;}#sk-container-id-3 input.sk-toggleable__control:checked~div.sk-toggleable__content {max-height: 200px;max-width: 100%;overflow: auto;}#sk-container-id-3 input.sk-toggleable__control:checked~label.sk-toggleable__label-arrow:before {content: \"▾\";}#sk-container-id-3 div.sk-estimator input.sk-toggleable__control:checked~label.sk-toggleable__label {background-color: #d4ebff;}#sk-container-id-3 div.sk-label input.sk-toggleable__control:checked~label.sk-toggleable__label {background-color: #d4ebff;}#sk-container-id-3 input.sk-hidden--visually {border: 0;clip: rect(1px 1px 1px 1px);clip: rect(1px, 1px, 1px, 1px);height: 1px;margin: -1px;overflow: hidden;padding: 0;position: absolute;width: 1px;}#sk-container-id-3 div.sk-estimator {font-family: monospace;background-color: #f0f8ff;border: 1px dotted black;border-radius: 0.25em;box-sizing: border-box;margin-bottom: 0.5em;}#sk-container-id-3 div.sk-estimator:hover {background-color: #d4ebff;}#sk-container-id-3 div.sk-parallel-item::after {content: \"\";width: 100%;border-bottom: 1px solid gray;flex-grow: 1;}#sk-container-id-3 div.sk-label:hover label.sk-toggleable__label {background-color: #d4ebff;}#sk-container-id-3 div.sk-serial::before {content: \"\";position: absolute;border-left: 1px solid gray;box-sizing: border-box;top: 0;bottom: 0;left: 50%;z-index: 0;}#sk-container-id-3 div.sk-serial {display: flex;flex-direction: column;align-items: center;background-color: white;padding-right: 0.2em;padding-left: 0.2em;position: relative;}#sk-container-id-3 div.sk-item {position: relative;z-index: 1;}#sk-container-id-3 div.sk-parallel {display: flex;align-items: stretch;justify-content: center;background-color: white;position: relative;}#sk-container-id-3 div.sk-item::before, #sk-container-id-3 div.sk-parallel-item::before {content: \"\";position: absolute;border-left: 1px solid gray;box-sizing: border-box;top: 0;bottom: 0;left: 50%;z-index: -1;}#sk-container-id-3 div.sk-parallel-item {display: flex;flex-direction: column;z-index: 1;position: relative;background-color: white;}#sk-container-id-3 div.sk-parallel-item:first-child::after {align-self: flex-end;width: 50%;}#sk-container-id-3 div.sk-parallel-item:last-child::after {align-self: flex-start;width: 50%;}#sk-container-id-3 div.sk-parallel-item:only-child::after {width: 0;}#sk-container-id-3 div.sk-dashed-wrapped {border: 1px dashed gray;margin: 0 0.4em 0.5em 0.4em;box-sizing: border-box;padding-bottom: 0.4em;background-color: white;}#sk-container-id-3 div.sk-label label {font-family: monospace;font-weight: bold;display: inline-block;line-height: 1.2em;}#sk-container-id-3 div.sk-label-container {text-align: center;}#sk-container-id-3 div.sk-container {/* jupyter's `normalize.less` sets `[hidden] { display: none; }` but bootstrap.min.css set `[hidden] { display: none !important; }` so we also need the `!important` here to be able to override the default hidden behavior on the sphinx rendered scikit-learn.org. See: https://github.com/scikit-learn/scikit-learn/issues/21755 */display: inline-block !important;position: relative;}#sk-container-id-3 div.sk-text-repr-fallback {display: none;}</style><div id=\"sk-container-id-3\" class=\"sk-top-container\"><div class=\"sk-text-repr-fallback\"><pre>KNeighborsClassifier(n_neighbors=3)</pre><b>In a Jupyter environment, please rerun this cell to show the HTML representation or trust the notebook. <br />On GitHub, the HTML representation is unable to render, please try loading this page with nbviewer.org.</b></div><div class=\"sk-container\" hidden><div class=\"sk-item\"><div class=\"sk-estimator sk-toggleable\"><input class=\"sk-toggleable__control sk-hidden--visually\" id=\"sk-estimator-id-3\" type=\"checkbox\" checked><label for=\"sk-estimator-id-3\" class=\"sk-toggleable__label sk-toggleable__label-arrow\">KNeighborsClassifier</label><div class=\"sk-toggleable__content\"><pre>KNeighborsClassifier(n_neighbors=3)</pre></div></div></div></div></div>"
      ],
      "text/plain": [
       "KNeighborsClassifier(n_neighbors=3)"
      ]
     },
     "execution_count": 44,
     "metadata": {},
     "output_type": "execute_result"
    }
   ],
   "source": [
    "###########KNN\n",
    "from sklearn.neighbors import KNeighborsClassifier\n",
    "knn=KNeighborsClassifier(n_neighbors=3)\n",
    "knn.fit(X_train_rus,y_train_rus)"
   ]
  },
  {
   "cell_type": "code",
   "execution_count": 45,
   "id": "6086d3a421459fbd",
   "metadata": {
    "ExecuteTime": {
     "end_time": "2024-01-29T05:30:28.472183934Z",
     "start_time": "2024-01-29T05:30:19.012552689Z"
    },
    "collapsed": false
   },
   "outputs": [],
   "source": [
    "# Calculate accuracy of KNN\n",
    "y_test_knn = knn.predict(X_flow_test)"
   ]
  },
  {
   "cell_type": "code",
   "execution_count": 46,
   "id": "4a671af40ebabbaf",
   "metadata": {
    "ExecuteTime": {
     "end_time": "2024-01-29T05:30:38.066231257Z",
     "start_time": "2024-01-29T05:30:29.249829924Z"
    },
    "collapsed": false
   },
   "outputs": [],
   "source": [
    "y_train_knn = knn.predict(X_train_rus)"
   ]
  },
  {
   "cell_type": "code",
   "execution_count": 47,
   "id": "ba4eb2c0ddab6219",
   "metadata": {
    "ExecuteTime": {
     "end_time": "2024-01-29T05:30:38.910352450Z",
     "start_time": "2024-01-29T05:30:38.854258807Z"
    },
    "collapsed": false
   },
   "outputs": [
    {
     "name": "stdout",
     "output_type": "stream",
     "text": [
      "Training Accuracy: 94.51715643584066\n",
      "Test Accuracy: 93.32728803678995\n"
     ]
    }
   ],
   "source": [
    "from sklearn.metrics import accuracy_score\n",
    "test_accuracy = accuracy_score(y_flow_test, y_test_knn)\n",
    "train_accuracy = accuracy_score(y_train_rus, y_train_knn)\n",
    "\n",
    "print(\"Training Accuracy:\", train_accuracy * 100)\n",
    "print(\"Test Accuracy:\", test_accuracy * 100)"
   ]
  },
  {
   "cell_type": "code",
   "execution_count": 48,
   "id": "5a3405c357f1c141",
   "metadata": {
    "ExecuteTime": {
     "end_time": "2024-01-29T05:30:40.512257203Z",
     "start_time": "2024-01-29T05:30:40.397611867Z"
    },
    "collapsed": false
   },
   "outputs": [
    {
     "name": "stdout",
     "output_type": "stream",
     "text": [
      "              precision    recall  f1-score   support\n",
      "\n",
      "           0       0.70      0.87      0.78     10170\n",
      "           1       0.98      0.94      0.96     67025\n",
      "\n",
      "    accuracy                           0.93     77195\n",
      "   macro avg       0.84      0.91      0.87     77195\n",
      "weighted avg       0.94      0.93      0.94     77195\n",
      "\n"
     ]
    }
   ],
   "source": [
    "from sklearn.metrics import classification_report\n",
    "print(classification_report(y_flow_test, y_test_knn))\n"
   ]
  },
  {
   "cell_type": "code",
   "execution_count": 49,
   "id": "fc4077de34491e07",
   "metadata": {
    "ExecuteTime": {
     "end_time": "2024-01-29T05:30:41.944410960Z",
     "start_time": "2024-01-29T05:30:41.742777891Z"
    },
    "collapsed": false
   },
   "outputs": [
    {
     "name": "stdout",
     "output_type": "stream",
     "text": [
      "[[ 8883  1287]\n",
      " [ 3864 63161]]\n"
     ]
    },
    {
     "data": {
      "text/plain": [
       "<sklearn.metrics._plot.confusion_matrix.ConfusionMatrixDisplay at 0x7fc55de16da0>"
      ]
     },
     "execution_count": 49,
     "metadata": {},
     "output_type": "execute_result"
    },
    {
     "data": {
      "image/png": "[encoded data removed]",
      "text/plain": [
       "<Figure size 640x480 with 2 Axes>"
      ]
     },
     "metadata": {},
     "output_type": "display_data"
    }
   ],
   "source": [
    "cm_knn=confusion_matrix(y_flow_test, y_test_knn,labels=knn.classes_)\n",
    "print(cm_knn)\n",
    "cm_disp_knn=ConfusionMatrixDisplay(confusion_matrix=cm_knn,display_labels=['beingn','attack'])\n",
    "cm_disp_knn.plot(cmap='coolwarm')"
   ]
  },
  {
   "cell_type": "code",
   "execution_count": 50,
   "id": "cedf521ccbf077e2",
   "metadata": {
    "ExecuteTime": {
     "end_time": "2024-01-29T05:42:30.863435446Z",
     "start_time": "2024-01-29T05:42:30.673998186Z"
    },
    "collapsed": false
   },
   "outputs": [
    {
     "data": {
      "image/png": "[encoded data removed]",
      "text/plain": [
       "<Figure size 640x480 with 2 Axes>"
      ]
     },
     "metadata": {},
     "output_type": "display_data"
    }
   ],
   "source": [
    "tp = 0\n",
    "tn = 0\n",
    "fp = 0\n",
    "fn = 0\n",
    "predictn = y_test_knn.flatten().round()\n",
    "predictn = predictn.tolist()\n",
    "Y_testn = y_flow_test.tolist()\n",
    "for i in range(len(Y_testn)):\n",
    "  if predictn[i]==1 and Y_testn[i]==1:\n",
    "    tp+=1\n",
    "  elif predictn[i]==0 and Y_testn[i]==0:\n",
    "    tn+=1\n",
    "  elif predictn[i]==0 and Y_testn[i]==1:\n",
    "    fn+=1\n",
    "  elif predictn[i]==1 and Y_testn[i]==0:\n",
    "    fp+=1\n",
    "      \n",
    "to_heat_map =[[tn,fp],[fn,tp]]\n",
    "to_heat_map = pd.DataFrame(to_heat_map, index = ['normal','attack'],columns = ['normal','attack'])\n",
    "ax = sns.heatmap(to_heat_map,annot=True, fmt=\"d\")   \n"
   ]
  },
  {
   "cell_type": "code",
   "execution_count": 51,
   "id": "c542c9b0c4e1a48b",
   "metadata": {
    "ExecuteTime": {
     "end_time": "2024-01-29T04:08:43.285202590Z",
     "start_time": "2024-01-29T04:08:43.225335869Z"
    },
    "collapsed": false
   },
   "outputs": [
    {
     "data": {
      "text/plain": [
       "(80378, 13)"
      ]
     },
     "execution_count": 51,
     "metadata": {},
     "output_type": "execute_result"
    }
   ],
   "source": [
    "X_train_rus.shape\n"
   ]
  },
  {
   "cell_type": "code",
   "execution_count": 52,
   "id": "1f2ce45d1cb678d0",
   "metadata": {
    "ExecuteTime": {
     "end_time": "2024-01-29T05:42:53.052408083Z",
     "start_time": "2024-01-29T05:42:47.669582262Z"
    },
    "collapsed": false
   },
   "outputs": [
    {
     "name": "stderr",
     "output_type": "stream",
     "text": [
      "2024-01-29 18:58:52.854654: I tensorflow/tsl/cuda/cudart_stub.cc:28] Could not find cuda drivers on your machine, GPU will not be used.\n",
      "2024-01-29 18:58:53.694379: E tensorflow/compiler/xla/stream_executor/cuda/cuda_dnn.cc:9342] Unable to register cuDNN factory: Attempting to register factory for plugin cuDNN when one has already been registered\n",
      "2024-01-29 18:58:53.694532: E tensorflow/compiler/xla/stream_executor/cuda/cuda_fft.cc:609] Unable to register cuFFT factory: Attempting to register factory for plugin cuFFT when one has already been registered\n",
      "2024-01-29 18:58:53.698800: E tensorflow/compiler/xla/stream_executor/cuda/cuda_blas.cc:1518] Unable to register cuBLAS factory: Attempting to register factory for plugin cuBLAS when one has already been registered\n",
      "2024-01-29 18:58:54.097309: I tensorflow/tsl/cuda/cudart_stub.cc:28] Could not find cuda drivers on your machine, GPU will not be used.\n",
      "2024-01-29 18:58:54.099976: I tensorflow/core/platform/cpu_feature_guard.cc:182] This TensorFlow binary is optimized to use available CPU instructions in performance-critical operations.\n",
      "To enable the following instructions: AVX2 FMA, in other operations, rebuild TensorFlow with the appropriate compiler flags.\n",
      "2024-01-29 18:58:55.912078: W tensorflow/compiler/tf2tensorrt/utils/py_utils.cc:38] TF-TRT Warning: Could not find TensorRT\n"
     ]
    },
    {
     "name": "stdout",
     "output_type": "stream",
     "text": [
      "Epoch 1/50\n",
      "9/9 [==============================] - 1s 37ms/step - loss: 0.7259 - accuracy: 0.5326 - val_loss: 0.7844 - val_accuracy: 0.4212\n",
      "Epoch 2/50\n",
      "9/9 [==============================] - 0s 10ms/step - loss: 0.6783 - accuracy: 0.5975 - val_loss: 0.7375 - val_accuracy: 0.4452\n",
      "Epoch 3/50\n",
      "9/9 [==============================] - 0s 11ms/step - loss: 0.6410 - accuracy: 0.6441 - val_loss: 0.6974 - val_accuracy: 0.5307\n",
      "Epoch 4/50\n",
      "9/9 [==============================] - 0s 10ms/step - loss: 0.6102 - accuracy: 0.7059 - val_loss: 0.6573 - val_accuracy: 0.6908\n",
      "Epoch 5/50\n",
      "9/9 [==============================] - 0s 10ms/step - loss: 0.5824 - accuracy: 0.7883 - val_loss: 0.6185 - val_accuracy: 0.8373\n",
      "Epoch 6/50\n",
      "9/9 [==============================] - 0s 11ms/step - loss: 0.5563 - accuracy: 0.8040 - val_loss: 0.5815 - val_accuracy: 0.8444\n",
      "Epoch 7/50\n",
      "9/9 [==============================] - 0s 10ms/step - loss: 0.5314 - accuracy: 0.7966 - val_loss: 0.5474 - val_accuracy: 0.8550\n",
      "Epoch 8/50\n",
      "9/9 [==============================] - 0s 11ms/step - loss: 0.5074 - accuracy: 0.8004 - val_loss: 0.5152 - val_accuracy: 0.8583\n",
      "Epoch 9/50\n",
      "9/9 [==============================] - 0s 10ms/step - loss: 0.4843 - accuracy: 0.8055 - val_loss: 0.4835 - val_accuracy: 0.8648\n",
      "Epoch 10/50\n",
      "9/9 [==============================] - 0s 15ms/step - loss: 0.4617 - accuracy: 0.8219 - val_loss: 0.4561 - val_accuracy: 0.8713\n",
      "Epoch 11/50\n",
      "9/9 [==============================] - 0s 10ms/step - loss: 0.4398 - accuracy: 0.8441 - val_loss: 0.4293 - val_accuracy: 0.8832\n",
      "Epoch 12/50\n",
      "9/9 [==============================] - 0s 10ms/step - loss: 0.4186 - accuracy: 0.8527 - val_loss: 0.4086 - val_accuracy: 0.8893\n",
      "Epoch 13/50\n",
      "9/9 [==============================] - 0s 11ms/step - loss: 0.3986 - accuracy: 0.8582 - val_loss: 0.3881 - val_accuracy: 0.8964\n",
      "Epoch 14/50\n",
      "9/9 [==============================] - 0s 9ms/step - loss: 0.3802 - accuracy: 0.8653 - val_loss: 0.3689 - val_accuracy: 0.9022\n",
      "Epoch 15/50\n",
      "9/9 [==============================] - 0s 11ms/step - loss: 0.3645 - accuracy: 0.8719 - val_loss: 0.3496 - val_accuracy: 0.9132\n",
      "Epoch 16/50\n",
      "9/9 [==============================] - 0s 10ms/step - loss: 0.3523 - accuracy: 0.8763 - val_loss: 0.3364 - val_accuracy: 0.9138\n",
      "Epoch 17/50\n",
      "9/9 [==============================] - 0s 9ms/step - loss: 0.3427 - accuracy: 0.8783 - val_loss: 0.3260 - val_accuracy: 0.9141\n",
      "Epoch 18/50\n",
      "9/9 [==============================] - 0s 10ms/step - loss: 0.3352 - accuracy: 0.8793 - val_loss: 0.3152 - val_accuracy: 0.9185\n",
      "Epoch 19/50\n",
      "9/9 [==============================] - 0s 9ms/step - loss: 0.3291 - accuracy: 0.8808 - val_loss: 0.3076 - val_accuracy: 0.9214\n",
      "Epoch 20/50\n",
      "9/9 [==============================] - 0s 10ms/step - loss: 0.3243 - accuracy: 0.8819 - val_loss: 0.3011 - val_accuracy: 0.9222\n",
      "Epoch 21/50\n",
      "9/9 [==============================] - 0s 9ms/step - loss: 0.3205 - accuracy: 0.8828 - val_loss: 0.2946 - val_accuracy: 0.9231\n",
      "Epoch 22/50\n",
      "9/9 [==============================] - 0s 10ms/step - loss: 0.3174 - accuracy: 0.8832 - val_loss: 0.2879 - val_accuracy: 0.9235\n",
      "Epoch 23/50\n",
      "9/9 [==============================] - 0s 9ms/step - loss: 0.3143 - accuracy: 0.8842 - val_loss: 0.2931 - val_accuracy: 0.9201\n",
      "Epoch 24/50\n",
      "9/9 [==============================] - 0s 9ms/step - loss: 0.3115 - accuracy: 0.8854 - val_loss: 0.2877 - val_accuracy: 0.9215\n",
      "Epoch 25/50\n",
      "9/9 [==============================] - 0s 10ms/step - loss: 0.3089 - accuracy: 0.8862 - val_loss: 0.2828 - val_accuracy: 0.9217\n",
      "Epoch 26/50\n",
      "9/9 [==============================] - 0s 10ms/step - loss: 0.3065 - accuracy: 0.8873 - val_loss: 0.2801 - val_accuracy: 0.9220\n",
      "Epoch 27/50\n",
      "9/9 [==============================] - 0s 9ms/step - loss: 0.3041 - accuracy: 0.8883 - val_loss: 0.2799 - val_accuracy: 0.9227\n",
      "Epoch 28/50\n",
      "9/9 [==============================] - 0s 9ms/step - loss: 0.3017 - accuracy: 0.8898 - val_loss: 0.2758 - val_accuracy: 0.9258\n",
      "Epoch 29/50\n",
      "9/9 [==============================] - 0s 10ms/step - loss: 0.2993 - accuracy: 0.8920 - val_loss: 0.2741 - val_accuracy: 0.9269\n",
      "Epoch 30/50\n",
      "9/9 [==============================] - 0s 9ms/step - loss: 0.2967 - accuracy: 0.8936 - val_loss: 0.2731 - val_accuracy: 0.9265\n",
      "Epoch 31/50\n",
      "9/9 [==============================] - 0s 10ms/step - loss: 0.2942 - accuracy: 0.8959 - val_loss: 0.2734 - val_accuracy: 0.9271\n",
      "Epoch 32/50\n",
      "9/9 [==============================] - 0s 10ms/step - loss: 0.2920 - accuracy: 0.8972 - val_loss: 0.2669 - val_accuracy: 0.9287\n",
      "Epoch 33/50\n",
      "9/9 [==============================] - 0s 10ms/step - loss: 0.2898 - accuracy: 0.8997 - val_loss: 0.2659 - val_accuracy: 0.9293\n",
      "Epoch 34/50\n",
      "9/9 [==============================] - 0s 9ms/step - loss: 0.2878 - accuracy: 0.9009 - val_loss: 0.2635 - val_accuracy: 0.9282\n",
      "Epoch 35/50\n",
      "9/9 [==============================] - 0s 9ms/step - loss: 0.2857 - accuracy: 0.9024 - val_loss: 0.2597 - val_accuracy: 0.9299\n",
      "Epoch 36/50\n",
      "9/9 [==============================] - 0s 10ms/step - loss: 0.2837 - accuracy: 0.9045 - val_loss: 0.2567 - val_accuracy: 0.9314\n",
      "Epoch 37/50\n",
      "9/9 [==============================] - 0s 9ms/step - loss: 0.2817 - accuracy: 0.9068 - val_loss: 0.2578 - val_accuracy: 0.9308\n",
      "Epoch 38/50\n",
      "9/9 [==============================] - 0s 10ms/step - loss: 0.2797 - accuracy: 0.9084 - val_loss: 0.2536 - val_accuracy: 0.9315\n",
      "Epoch 39/50\n",
      "9/9 [==============================] - 0s 9ms/step - loss: 0.2780 - accuracy: 0.9098 - val_loss: 0.2486 - val_accuracy: 0.9333\n",
      "Epoch 40/50\n",
      "9/9 [==============================] - 0s 9ms/step - loss: 0.2762 - accuracy: 0.9117 - val_loss: 0.2503 - val_accuracy: 0.9342\n",
      "Epoch 41/50\n",
      "9/9 [==============================] - 0s 9ms/step - loss: 0.2746 - accuracy: 0.9135 - val_loss: 0.2499 - val_accuracy: 0.9337\n",
      "Epoch 42/50\n",
      "9/9 [==============================] - 0s 9ms/step - loss: 0.2731 - accuracy: 0.9137 - val_loss: 0.2474 - val_accuracy: 0.9338\n",
      "Epoch 43/50\n",
      "9/9 [==============================] - 0s 9ms/step - loss: 0.2716 - accuracy: 0.9139 - val_loss: 0.2456 - val_accuracy: 0.9345\n",
      "Epoch 44/50\n",
      "9/9 [==============================] - 0s 10ms/step - loss: 0.2702 - accuracy: 0.9142 - val_loss: 0.2458 - val_accuracy: 0.9342\n",
      "Epoch 45/50\n",
      "9/9 [==============================] - 0s 9ms/step - loss: 0.2689 - accuracy: 0.9142 - val_loss: 0.2398 - val_accuracy: 0.9347\n",
      "Epoch 46/50\n",
      "9/9 [==============================] - 0s 10ms/step - loss: 0.2676 - accuracy: 0.9143 - val_loss: 0.2411 - val_accuracy: 0.9345\n",
      "Epoch 47/50\n",
      "9/9 [==============================] - 0s 9ms/step - loss: 0.2663 - accuracy: 0.9147 - val_loss: 0.2379 - val_accuracy: 0.9359\n",
      "Epoch 48/50\n",
      "9/9 [==============================] - 0s 10ms/step - loss: 0.2653 - accuracy: 0.9150 - val_loss: 0.2394 - val_accuracy: 0.9353\n",
      "Epoch 49/50\n",
      "9/9 [==============================] - 0s 9ms/step - loss: 0.2642 - accuracy: 0.9148 - val_loss: 0.2366 - val_accuracy: 0.9352\n",
      "Epoch 50/50\n",
      "9/9 [==============================] - 0s 10ms/step - loss: 0.2633 - accuracy: 0.9148 - val_loss: 0.2313 - val_accuracy: 0.9364\n"
     ]
    }
   ],
   "source": [
    "###################################Neural Network\n",
    "import keras\n",
    "from keras import Sequential\n",
    "from keras.layers import Dense, Dropout, Activation\n",
    "from keras.optimizers import Adam\n",
    "from keras.losses import BinaryCrossentropy\n",
    "\n",
    "sc=StandardScaler()\n",
    "X_train_rus = sc.fit_transform(X_train_rus)\n",
    "X_flow_test = sc.transform(X_flow_test)\n",
    "\n",
    "nn_model = Sequential([\n",
    "    Dense(units=13, activation='relu'),\n",
    "    Dense(units=32, activation='relu'),\n",
    "    Dense(units=1, activation='sigmoid')  #output layer  \n",
    "])\n",
    "nn_model.compile(optimizer='adam', loss='BinaryCrossentropy', metrics=['accuracy'])\n",
    "history = nn_model.fit(X_train_rus, y_train_rus, epochs=50, batch_size=10000, validation_data=(X_flow_test, y_flow_test))"
   ]
  },
  {
   "cell_type": "code",
   "execution_count": 53,
   "id": "3732f9d87f208db",
   "metadata": {
    "ExecuteTime": {
     "end_time": "2024-01-29T05:42:55.546770992Z",
     "start_time": "2024-01-29T05:42:55.433276785Z"
    },
    "collapsed": false
   },
   "outputs": [
    {
     "name": "stdout",
     "output_type": "stream",
     "text": [
      "8/8 [==============================] - 0s 3ms/step - loss: 0.2313 - accuracy: 0.9364\n"
     ]
    }
   ],
   "source": [
    "acc=nn_model.evaluate(X_flow_test,y_flow_test,batch_size=10000)"
   ]
  },
  {
   "cell_type": "code",
   "execution_count": 54,
   "id": "e24b8a2ac05d72c8",
   "metadata": {
    "ExecuteTime": {
     "end_time": "2024-01-29T05:31:26.232513851Z",
     "start_time": "2024-01-29T05:31:26.118373930Z"
    },
    "collapsed": false
   },
   "outputs": [
    {
     "name": "stdout",
     "output_type": "stream",
     "text": [
      "9/9 [==============================] - 0s 4ms/step - loss: 0.2627 - accuracy: 0.9149\n"
     ]
    }
   ],
   "source": [
    "acc_t=nn_model.evaluate(X_train_rus,y_train_rus,batch_size=10000)"
   ]
  },
  {
   "cell_type": "code",
   "execution_count": 55,
   "id": "5b6d69abc50e1403",
   "metadata": {
    "ExecuteTime": {
     "end_time": "2024-01-29T05:58:03.356002461Z",
     "start_time": "2024-01-29T05:58:02.940254991Z"
    },
    "collapsed": false
   },
   "outputs": [
    {
     "data": {
      "image/png": "[encoded data removed]",
      "text/plain": [
       "<Figure size 640x480 with 1 Axes>"
      ]
     },
     "metadata": {},
     "output_type": "display_data"
    },
    {
     "data": {
      "image/png": "[encoded data removed]",
      "text/plain": [
       "<Figure size 640x480 with 1 Axes>"
      ]
     },
     "metadata": {},
     "output_type": "display_data"
    }
   ],
   "source": [
    "import matplotlib.pyplot as plt\n",
    "\n",
    "loss = history.history['loss']\n",
    "val_loss = history.history['val_loss']\n",
    "epochs = range(1, len(loss) + 1)\n",
    "plt.plot(epochs, loss, 'y', label='Training loss')\n",
    "plt.plot(epochs, val_loss, 'r', label='Validation loss')\n",
    "plt.title('Training and validation loss')\n",
    "plt.xlabel('Epochs')\n",
    "plt.ylabel('Loss')\n",
    "plt.legend()\n",
    "plt.show()\n",
    "\n",
    "acc = history.history['accuracy']\n",
    "val_acc = history.history['val_accuracy']\n",
    "plt.plot(epochs, acc, 'y', label='Training acc')\n",
    "plt.plot(epochs, val_acc, 'r', label='Validation acc')\n",
    "plt.title('Training and validation accuracy')\n",
    "plt.xlabel('Epochs')\n",
    "plt.ylabel('Accuracy')\n",
    "plt.legend()\n",
    "plt.show()"
   ]
  },
  {
   "cell_type": "code",
   "execution_count": 56,
   "id": "ff03f29aed39121c",
   "metadata": {
    "ExecuteTime": {
     "end_time": "2024-01-29T05:43:09.219634273Z",
     "start_time": "2024-01-29T05:43:04.705341844Z"
    },
    "collapsed": false
   },
   "outputs": [
    {
     "name": "stdout",
     "output_type": "stream",
     "text": [
      "2413/2413 [==============================] - 4s 2ms/step\n"
     ]
    },
    {
     "data": {
      "text/plain": [
       "array([[0.91847837],\n",
       "       [0.6927909 ],\n",
       "       [0.93613154],\n",
       "       ...,\n",
       "       [0.94761646],\n",
       "       [0.8200807 ],\n",
       "       [0.7665584 ]], dtype=float32)"
      ]
     },
     "execution_count": 56,
     "metadata": {},
     "output_type": "execute_result"
    }
   ],
   "source": [
    "y_test_nn=nn_model.predict(X_flow_test)\n",
    "y_test_nn"
   ]
  },
  {
   "cell_type": "code",
   "execution_count": 57,
   "id": "75480fb414595fe2",
   "metadata": {
    "ExecuteTime": {
     "end_time": "2024-01-29T05:43:11.334084871Z",
     "start_time": "2024-01-29T05:43:11.066626813Z"
    },
    "collapsed": false
   },
   "outputs": [
    {
     "data": {
      "text/plain": [
       "array([[1.],\n",
       "       [1.],\n",
       "       [1.],\n",
       "       ...,\n",
       "       [1.],\n",
       "       [1.],\n",
       "       [1.]], dtype=float32)"
      ]
     },
     "execution_count": 57,
     "metadata": {},
     "output_type": "execute_result"
    }
   ],
   "source": [
    "def binary_converter(t):\n",
    "    for i in range(len(t)):\n",
    "        if (abs(t[i])>=0.5):\n",
    "            t[i]=1\n",
    "        elif (abs(t[i])<=0.5):\n",
    "            t[i]=0\n",
    "    return t\n",
    "y_test_nn=binary_converter(y_test_nn)\n",
    "from sklearn.metrics import classification_report\n",
    "y_test_nn"
   ]
  },
  {
   "cell_type": "code",
   "execution_count": 58,
   "id": "fb4c421a1af12119",
   "metadata": {
    "ExecuteTime": {
     "end_time": "2024-01-29T05:43:14.050033180Z",
     "start_time": "2024-01-29T05:43:13.902443240Z"
    },
    "collapsed": false
   },
   "outputs": [
    {
     "name": "stdout",
     "output_type": "stream",
     "text": [
      "              precision    recall  f1-score   support\n",
      "\n",
      "           0       0.71      0.89      0.79     10170\n",
      "           1       0.98      0.94      0.96     67025\n",
      "\n",
      "    accuracy                           0.94     77195\n",
      "   macro avg       0.84      0.92      0.87     77195\n",
      "weighted avg       0.95      0.94      0.94     77195\n",
      "\n"
     ]
    }
   ],
   "source": [
    "print(classification_report(y_flow_test, y_test_nn))\n"
   ]
  },
  {
   "cell_type": "code",
   "execution_count": 59,
   "id": "b4fe2e3f06d3cedc",
   "metadata": {
    "ExecuteTime": {
     "end_time": "2024-01-29T05:43:17.361952571Z",
     "start_time": "2024-01-29T05:43:17.121077066Z"
    },
    "collapsed": false
   },
   "outputs": [
    {
     "name": "stdout",
     "output_type": "stream",
     "text": [
      "[[ 9019  1151]\n",
      " [ 3755 63270]]\n"
     ]
    },
    {
     "data": {
      "text/plain": [
       "<sklearn.metrics._plot.confusion_matrix.ConfusionMatrixDisplay at 0x7fc55dc23460>"
      ]
     },
     "execution_count": 59,
     "metadata": {},
     "output_type": "execute_result"
    },
    {
     "data": {
      "image/png": "[encoded data removed]",
      "text/plain": [
       "<Figure size 640x480 with 2 Axes>"
      ]
     },
     "metadata": {},
     "output_type": "display_data"
    }
   ],
   "source": [
    "cm_nn=confusion_matrix(y_flow_test, y_test_nn)\n",
    "print(cm_nn)\n",
    "cm_disp_nn=ConfusionMatrixDisplay(confusion_matrix=cm_nn,display_labels=['beingn','attack'])\n",
    "cm_disp_nn.plot(cmap='coolwarm')"
   ]
  },
  {
   "cell_type": "code",
   "execution_count": 60,
   "id": "1d90340436c1539",
   "metadata": {
    "ExecuteTime": {
     "end_time": "2024-01-29T05:43:27.291998838Z",
     "start_time": "2024-01-29T05:43:27.015834520Z"
    },
    "collapsed": false
   },
   "outputs": [
    {
     "ename": "SyntaxError",
     "evalue": "'(' was never closed (1948155008.py, line 19)",
     "output_type": "error",
     "traceback": [
      "\u001b[0;36m  Cell \u001b[0;32mIn[60], line 19\u001b[0;36m\u001b[0m\n\u001b[0;31m    to_heat_map = pd.DataFrame(to_heat_map, index =\u001b[0m\n\u001b[0m                              ^\u001b[0m\n\u001b[0;31mSyntaxError\u001b[0m\u001b[0;31m:\u001b[0m '(' was never closed\n"
     ]
    }
   ],
   "source": [
    "tp = 0\n",
    "tn = 0\n",
    "fp = 0\n",
    "fn = 0\n",
    "predictn = y_test_nn.flatten().round()\n",
    "predictn = predictn.tolist()\n",
    "Y_testn = y_flow_test.tolist()\n",
    "for i in range(len(Y_testn)):\n",
    "  if predictn[i]==1 and Y_testn[i]==1:\n",
    "    tp+=1\n",
    "  elif predictn[i]==0 and Y_testn[i]==0:\n",
    "    tn+=1\n",
    "  elif predictn[i]==0 and Y_testn[i]==1:\n",
    "    fn+=1\n",
    "  elif predictn[i]==1 and Y_testn[i]==0:\n",
    "    fp+=1\n",
    "      \n",
    "to_heat_map =[[tn,fp],[fn,tp]]\n",
    "to_heat_map = pd.DataFrame(to_heat_map, index = \n",
    "ax = sns.heatmap(to_heat_map,annot=True, fmt=\"d\")   \n"
   ]
  },
  {
   "cell_type": "code",
   "execution_count": 61,
   "id": "f8bca044af000883",
   "metadata": {
    "ExecuteTime": {
     "end_time": "2024-01-29T08:54:27.955841159Z",
     "start_time": "2024-01-29T08:54:18.371764734Z"
    },
    "collapsed": false
   },
   "outputs": [],
   "source": [
    "####Plotting ROC Curve\n",
    "r_probs=[0 for _ in range (len(y_flow_test))]\n",
    "\n",
    "rf_probs=rf.predict_proba(X_flow_test)\n",
    "xgb_probs=xgb_model.predict_proba(X_flow_test)\n",
    "nb_probs=nb.predict_proba(X_flow_test)\n",
    "knn_probs=knn.predict_proba(X_flow_test)\n",
    "#nn_probs=nn_model.predict_proba(X_flow_test)\n"
   ]
  },
  {
   "cell_type": "code",
   "execution_count": 62,
   "id": "dc5b293ffd5b7203",
   "metadata": {
    "ExecuteTime": {
     "end_time": "2024-01-29T08:54:36.168266667Z",
     "start_time": "2024-01-29T08:54:36.118768657Z"
    },
    "collapsed": false
   },
   "outputs": [],
   "source": [
    "rf_probs=rf_probs[:,1]\n",
    "xgb_probs=xgb_probs[:,1]\n",
    "nb_probs=nb_probs[:,1]\n",
    "knn_probs=knn_probs[:,1]"
   ]
  },
  {
   "cell_type": "code",
   "execution_count": 63,
   "id": "1bc5e1f6",
   "metadata": {},
   "outputs": [
    {
     "name": "stdout",
     "output_type": "stream",
     "text": [
      "2413/2413 [==============================] - 5s 2ms/step\n"
     ]
    }
   ],
   "source": [
    "nn_probs=nn_model.predict(X_flow_test)"
   ]
  },
  {
   "cell_type": "code",
   "execution_count": 83,
   "id": "de285bf0",
   "metadata": {},
   "outputs": [],
   "source": [
    "nn_list=[]\n",
    "for x in nn_probs:\n",
    "    nn_list.append(x[0])\n",
    "nn_array=np.array(nn_list)"
   ]
  },
  {
   "cell_type": "code",
   "execution_count": 84,
   "id": "dcaa44d4",
   "metadata": {},
   "outputs": [
    {
     "name": "stdout",
     "output_type": "stream",
     "text": [
      "[0.91847837 0.6927909  0.93613154 ... 0.94761646 0.8200807  0.7665584 ]\n"
     ]
    }
   ],
   "source": [
    "print(len(nn_array),len())"
   ]
  },
  {
   "cell_type": "code",
   "execution_count": 86,
   "id": "79991520dd1ce658",
   "metadata": {
    "ExecuteTime": {
     "end_time": "2024-01-29T08:56:40.800320811Z",
     "start_time": "2024-01-29T08:56:40.698470398Z"
    },
    "collapsed": false
   },
   "outputs": [],
   "source": [
    "#Calculate AUROC\n",
    "rf_auc=roc_auc_score(y_flow_test,rf_probs)\n",
    "xgb_auc=roc_auc_score(y_flow_test,xgb_probs)\n",
    "nb_auc=roc_auc_score(y_flow_test,nb_probs)\n",
    "knn_auc=roc_auc_score(y_flow_test,knn_probs)\n",
    "nn_auc=roc_auc_score(y_flow_test,nn_array)"
   ]
  },
  {
   "cell_type": "code",
   "execution_count": null,
   "id": "4c0850263344843d",
   "metadata": {
    "ExecuteTime": {
     "end_time": "2024-01-29T08:59:36.894846752Z",
     "start_time": "2024-01-29T08:59:36.830862322Z"
    },
    "collapsed": false
   },
   "outputs": [
    {
     "name": "stdout",
     "output_type": "stream",
     "text": [
      "Random Forest:AUROC=0.979\n",
      "XGBoost:AUROC=0.988\n",
      "Naive Bayes:AUROC=0.833\n",
      "KNN :AUROC=0.942\n"
     ]
    }
   ],
   "source": [
    "print('Random Forest:AUROC=%0.3f'%(rf_auc))\n",
    "print('XGBoost:AUROC=%0.3f'%(xgb_auc))\n",
    "print('Naive Bayes:AUROC=%0.3f'%(nb_auc))\n",
    "print('KNN :AUROC=%0.3f'%(knn_auc))"
   ]
  },
  {
   "cell_type": "code",
   "execution_count": 93,
   "id": "3580a18792f7080",
   "metadata": {
    "ExecuteTime": {
     "end_time": "2024-01-29T09:02:07.105790271Z",
     "start_time": "2024-01-29T09:02:07.023658406Z"
    },
    "collapsed": false
   },
   "outputs": [],
   "source": [
    "#Predictinf the Test Set results\n",
    "rf_fpr,rf_tpr,_=roc_curve(y_flow_test,rf_probs)\n",
    "xgb_fpr,xgb_tpr,_=roc_curve(y_flow_test,xgb_probs)\n",
    "nb_fpr,nb_tpr,_=roc_curve(y_flow_test,nb_probs)\n",
    "knn_fpr,knn_tpr,_=roc_curve(y_flow_test,knn_probs)\n",
    "nn_fpr,nn_tpr,_=roc_curve(y_flow_test,nn_array)"
   ]
  },
  {
   "cell_type": "code",
   "execution_count": 95,
   "id": "ec80077ea27c3525",
   "metadata": {
    "ExecuteTime": {
     "end_time": "2024-01-29T09:14:14.409298969Z",
     "start_time": "2024-01-29T09:14:14.337402789Z"
    },
    "collapsed": false
   },
   "outputs": [],
   "source": [
    "def plot_roc_curve(rf_fpr,rf_tpr):\n",
    "  plt.plot(rf_fpr, rf_tpr, label='Random Forest (AUROC=% 0.3f)'% rf_auc)\n",
    "  plt.plot(xgb_fpr, xgb_tpr, label='XGBoost (AUROC=% 0.3f)'% xgb_auc)\n",
    "  plt.plot(nb_fpr, nb_tpr, label='Naive Bayes (AUROC=% 0.3f)'% nb_auc)\n",
    "  plt.plot(knn_fpr, knn_tpr, label='KNN (AUROC=% 0.3f)'% knn_auc)\n",
    "  plt.plot(nn_fpr, nn_tpr, label='NN (AUROC=% 0.3f)'% nn_auc)\n",
    "  plt.xlabel('False Positive Rate')\n",
    "  plt.ylabel('True Positive Rate')\n",
    "  plt.title('Receiver Operating Characterisitcs (ROC) Curve')\n",
    "  plt.legend()\n",
    "  plt.show()\n",
    "  \n",
    "  "
   ]
  },
  {
   "cell_type": "code",
   "execution_count": 96,
   "id": "ebd49e2b83e1e725",
   "metadata": {
    "ExecuteTime": {
     "end_time": "2024-01-29T09:14:15.534587498Z",
     "start_time": "2024-01-29T09:14:15.232224746Z"
    },
    "collapsed": false
   },
   "outputs": [
    {
     "data": {
      "image/png": "[encoded data removed]",
      "text/plain": [
       "<Figure size 640x480 with 1 Axes>"
      ]
     },
     "metadata": {},
     "output_type": "display_data"
    }
   ],
   "source": [
    "plot_roc_curve(rf_fpr,rf_tpr)"
   ]
  },
  {
   "cell_type": "code",
   "execution_count": null,
   "id": "15b327b2f337b88c",
   "metadata": {
    "collapsed": false
   },
   "outputs": [],
   "source": []
  }
 ],
 "metadata": {
  "kernelspec": {
   "display_name": "Python 3",
   "language": "python",
   "name": "python3"
  },
  "language_info": {
   "codemirror_mode": {
    "name": "ipython",
    "version": 3
   },
   "file_extension": ".py",
   "mimetype": "text/x-python",
   "name": "python",
   "nbconvert_exporter": "python",
   "pygments_lexer": "ipython3",
   "version": "3.10.12"
  }
 },
 "nbformat": 4,
 "nbformat_minor": 5
}
